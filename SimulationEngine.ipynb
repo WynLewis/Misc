{
 "cells": [
  {
   "cell_type": "code",
   "execution_count": 1,
   "metadata": {},
   "outputs": [],
   "source": [
    "import numpy as np\n",
    "from scipy.stats import norm\n",
    "import matplotlib.pyplot as plt\n",
    "from time import time\n",
    "import mpmath as mp\n",
    "from numba import njit"
   ]
  },
  {
   "cell_type": "code",
   "execution_count": 2,
   "metadata": {},
   "outputs": [],
   "source": [
    "class VanillaOption():\n",
    "\n",
    "    def __init__(self, r, S, k, t):\n",
    "        self.r = r\n",
    "        self.S = S\n",
    "        self.k = k\n",
    "        self.t = t\n",
    "        \n",
    "        \n",
    "class VanillaCall(VanillaOption):\n",
    "    @property\n",
    "    def price(self):\n",
    "        return np.mean(np.maximum(self.S[:,-1] - self.k, 0)*np.exp(-self.r*self.t))\n",
    "    \n",
    "    \n",
    "class VanillaPut(VanillaOption):\n",
    "    @property\n",
    "    def price(self):\n",
    "        return np.mean(np.maximum(strike - equity[:,-1], 0)*np.exp(-discount))"
   ]
  },
  {
   "cell_type": "code",
   "execution_count": 3,
   "metadata": {},
   "outputs": [],
   "source": [
    "class BSEuroOption():\n",
    "\n",
    "    def __init__(self, r, q, S, sigma, k, t):\n",
    "        self.r = r\n",
    "        self.q = q\n",
    "        self.S = S\n",
    "        self.sigma = sigma\n",
    "        self.k = k\n",
    "        self.t = t\n",
    "        self.d1 = ((np.log(self.S / self.k) + (self.r- self.q + np.square(self.sigma) / 2) * self.t)) / (sigma * np.sqrt(self.t))\n",
    "        self.d2 = self.d1 - self.sigma * np.sqrt(self.t)\n",
    "\n",
    "\n",
    "class BSCall(BSEuroOption):\n",
    "\n",
    "    @property\n",
    "    def price(self):\n",
    "        # S * N(d1) - K * N(d2)\n",
    "        return self.S * np.exp(-self.q * self.t) * norm.cdf(self.d1) - self.k * np.exp(-self.r * self.t) * norm.cdf(self.d2)\n",
    "\n",
    "    @property \n",
    "    def delta(self):\n",
    "        return np.exp(- self.q * self.t) * norm.cdf(self.d1) \n",
    "\n",
    "    @property \n",
    "    def gamma(self):\n",
    "        return np.exp(- self.q * self.t) * norm.pdf(self.d1) / (self.sigma * self.S * np.sqrt(self.t)) \n",
    "\n",
    "    @property \n",
    "    def vega(self):\n",
    "        return np.exp(- self.q * self.t) * norm.pdf(self.d1) * self.S * np.sqrt(self.t)\n",
    "    \n",
    "    \n",
    "class BSPut(BSEuroOption):\n",
    "\n",
    "\n",
    "    @property\n",
    "    def price(self):\n",
    "        return self.k * np.exp(-self.r * self.t) * norm.cdf(-self.d2) - self.S * np.exp(-self.q * self.t) * norm.cdf(-self.d1) \n",
    "\n",
    "    @property \n",
    "    def delta(self):\n",
    "        return -1 * np.exp(- self.q * self.t) * norm.cdf(-self.d1)\n",
    "\n",
    "    @property \n",
    "    def gamma(self):\n",
    "        return np.exp(- self.q * self.t) * norm.pdf(self.d1) / (self.sigma * self.S * np.sqrt(self.t)) \n",
    "\n",
    "    @property \n",
    "    def vega(self):\n",
    "        return np.exp(- self.q * self.t) * self.S * np.sqrt(self.t) *  norm.pdf(self.d1) / 100\n",
    "        #return np.exp(- self.q * self.t) * np.sqrt(self.t) *  norm.pdf(self.d1) / 100"
   ]
  },
  {
   "cell_type": "code",
   "execution_count": 4,
   "metadata": {},
   "outputs": [],
   "source": [
    "def simulate_GBM(sims, T, dt, S0, r, q, sigma):\n",
    "    m = int(1/(T * dt))\n",
    "    equity = np.zeros((sims, m+1))\n",
    "    X = np.random.randn(sims, m)\n",
    "    equity[:, 1:] = (r-q-sigma*sigma / 2) * dt + sigma * np.sqrt(dt) * X\n",
    "    return S0 * np.exp(equity.cumsum(axis=1))\n",
    "    "
   ]
  },
  {
   "cell_type": "code",
   "execution_count": 265,
   "metadata": {},
   "outputs": [
    {
     "name": "stdout",
     "output_type": "stream",
     "text": [
      "15.75%\n"
     ]
    }
   ],
   "source": [
    "nsim=100000\n",
    "timesteps=360\n",
    "maturity=1\n",
    "psi=.3877\n",
    "theta = 0.18*0.18\n",
    "kappa = 2\n",
    "V0 = 0.18*0.18\n",
    "dt = maturity / timesteps\n",
    "sqrtdt = np.sqrt(dt)\n",
    "out = np.zeros((nsim, timesteps))\n",
    "\n",
    "for sim in range(nsim):\n",
    "    v = V0\n",
    "    out[sim,0] = v\n",
    "    for n in range(1,timesteps):\n",
    "        z = np.random.randn()\n",
    "        v = v + kappa * (theta - v) * dt + psi * sqrtdt * np.sqrt(v) * z\n",
    "        if v < 0.0001:\n",
    "            v = 0.0001\n",
    "        out[sim,n] += v\n",
    "out = np.sqrt(out)\n",
    "print(f'{np.mean(out[:,-1]):.2%}')"
   ]
  },
  {
   "cell_type": "code",
   "execution_count": 302,
   "metadata": {},
   "outputs": [
    {
     "name": "stdout",
     "output_type": "stream",
     "text": [
      "18.02%\n",
      "3.25%\n"
     ]
    }
   ],
   "source": [
    "nsim=100000\n",
    "timesteps=360\n",
    "maturity=1\n",
    "psi=.3877\n",
    "theta = 0.18*0.18\n",
    "kappa = 2\n",
    "V0 = 0.18*0.18\n",
    "dt = maturity / timesteps\n",
    "sqrtdt = np.sqrt(dt)\n",
    "out = np.zeros((timesteps))\n",
    "out2 = np.zeros((nsim))\n",
    "for sim in range(nsim):\n",
    "    v = V0\n",
    "    out[0] = v\n",
    "    for n in range(1,timesteps):\n",
    "        z = np.random.randn()\n",
    "        v = v + kappa * (theta - v) * dt + psi * sqrtdt * np.sqrt(v) * z\n",
    "        if v < 0.0001:\n",
    "            v = 0.0001\n",
    "        out[n] += v\n",
    "        if n == timesteps-1:\n",
    "            out2[sim] = v\n",
    "out = out / nsim\n",
    "out = np.sqrt(out)\n",
    "out2 = np.sqrt(out2)\n",
    "print(f'{out[-1]:.2%}')\n",
    "print(f'{np.mean(out2):.2%}')"
   ]
  },
  {
   "cell_type": "code",
   "execution_count": 307,
   "metadata": {},
   "outputs": [
    {
     "data": {
      "text/plain": [
       "0.18027756377319948"
      ]
     },
     "execution_count": 307,
     "metadata": {},
     "output_type": "execute_result"
    }
   ],
   "source": [
    "np.sqrt(0.0325)"
   ]
  },
  {
   "cell_type": "code",
   "execution_count": 305,
   "metadata": {},
   "outputs": [
    {
     "name": "stdout",
     "output_type": "stream",
     "text": [
      "15.73%\n"
     ]
    }
   ],
   "source": [
    "print(f'{np.mean(out2):.2%}')"
   ]
  },
  {
   "cell_type": "code",
   "execution_count": 212,
   "metadata": {},
   "outputs": [],
   "source": [
    "def HESTON_VOL(rvs, nsim=100000, timesteps=360, maturity=1, eta=.3877, theta = 0.18*0.18, kappa = 2, V0 = .18):\n",
    "    dt = maturity / timesteps\n",
    "    sqrtdt = np.sqrt(dt)\n",
    "    V = np.zeros((nsim, timesteps+1))\n",
    "    V[:,0] = V0*V0\n",
    "    for j in range(nsim):\n",
    "        for n in range(timesteps):\n",
    "            rv = rvs[j,n]\n",
    "            #V[:,n+1] = (np.maximum(V[:,n] + kappa * (theta - V[:,n]) * dt + \n",
    "             #                      eta * np.sqrt(np.maximum(V[:,n],0.0001)) * rv * np.sqrt(dt), 0.0001))\n",
    "            V[j,n+1] = (abs(V[j,n] + kappa * (theta - V[j,n]) * dt + \n",
    "                            eta * np.sqrt(V[j,n]) * rv * sqrtdt))\n",
    "    Vol = np.sqrt(V)\n",
    "    return Vol\n",
    "\n",
    "def simulate_GBMSA(sims, T, dt, S0, V0, r, q, eta, kappa, rho, theta):\n",
    "    m = int(1/(T * dt))\n",
    "    equity = np.zeros((sims, m+1))\n",
    "    X1 = np.random.randn(sims, m)\n",
    "    X2 = np.random.randn(sims, m)\n",
    "    X3 = rho * X1 + np.sqrt(1-rho*rho)*X2\n",
    "    vol = HESTON_VOL(X1, sims, m, T, eta, theta, kappa, V0)\n",
    "    equity[:, 1:] = (r-q-vol[:,0:-1]*vol[:,0:-1] / 2) * dt + vol[:,0:-1] * np.sqrt(dt) * X3\n",
    "    return S0 * np.exp(equity.cumsum(axis=1)), vol"
   ]
  },
  {
   "cell_type": "code",
   "execution_count": 175,
   "metadata": {},
   "outputs": [
    {
     "name": "stdout",
     "output_type": "stream",
     "text": [
      "[[ 1.         -0.71875523]\n",
      " [-0.71875523  1.        ]]\n"
     ]
    },
    {
     "data": {
      "image/png": "[encoded data removed]",
      "text/plain": [
       "<Figure size 432x288 with 1 Axes>"
      ]
     },
     "metadata": {
      "needs_background": "light"
     },
     "output_type": "display_data"
    }
   ],
   "source": [
    "    sims = 10000\n",
    "    rho = -0.7\n",
    "    np.random.seed(1234)\n",
    "    X1 = np.random.randn(sims, 360)\n",
    "    X2 = np.random.randn(sims, 360)\n",
    "    X3 = rho * X1 + np.sqrt(1-rho*rho)*X2\n",
    "    scn = np.random.choice(sims, 1)\n",
    "    plt.plot(X1[scn[0],:].cumsum(axis=0));\n",
    "    plt.plot(X3[scn[0],:].cumsum(axis=0));\n",
    "    plt.title('Correlated Random Variables')\n",
    "    print(np.corrcoef(X1[scn,:], X3[scn,:]))"
   ]
  },
  {
   "cell_type": "code",
   "execution_count": 157,
   "metadata": {},
   "outputs": [
    {
     "data": {
      "text/plain": [
       "array([1564])"
      ]
     },
     "execution_count": 157,
     "metadata": {},
     "output_type": "execute_result"
    }
   ],
   "source": [
    "scn"
   ]
  },
  {
   "cell_type": "code",
   "execution_count": 142,
   "metadata": {},
   "outputs": [
    {
     "data": {
      "text/plain": [
       "Text(0.5, 1.0, 'Correlated Random Variables')"
      ]
     },
     "execution_count": 142,
     "metadata": {},
     "output_type": "execute_result"
    },
    {
     "data": {
      "image/png": "[encoded data removed]",
      "text/plain": [
       "<Figure size 432x288 with 1 Axes>"
      ]
     },
     "metadata": {
      "needs_background": "light"
     },
     "output_type": "display_data"
    }
   ],
   "source": [
    "sims = 10000\n",
    "rho = -0.7\n",
    "np.random.seed(1234)\n",
    "rho = -0.7\n",
    "Ndraws = 10000\n",
    "mu = np.array([0,0])\n",
    "cov = np.array([[1, rho] , [rho , 1]])\n",
    "\n",
    "W = np.random.multivariate_normal(mu, cov, size=Ndraws)\n",
    "\n",
    "plt.plot(W.cumsum(axis=0));\n",
    "plt.title('Correlated Random Variables')"
   ]
  },
  {
   "cell_type": "code",
   "execution_count": 6,
   "metadata": {},
   "outputs": [],
   "source": [
    "def simulate_VG(sims, T, dt, S0, r, q, sigma, nu, theta):\n",
    "    m = int(1/(T * dt))\n",
    "    omega = np.log(1 - theta*nu - sigma*sigma*nu/2)/nu\n",
    "    equity = np.zeros((sims, m+1))\n",
    "    drift = r - q + omega\n",
    "    g = np.random.gamma(dt/nu, nu,(sims,m))\n",
    "    X = theta*g + sigma*np.sqrt(g)*np.random.randn(sims, m)\n",
    "    equity[:, 1:] = drift * dt + X\n",
    "    return S0 * np.exp(equity.cumsum(axis=1))    "
   ]
  },
  {
   "cell_type": "code",
   "execution_count": 7,
   "metadata": {},
   "outputs": [],
   "source": [
    "def simulate_VGSA(sims, T, dt, S0, r, q, sigma, nu, theta, kappa, eta, lam):\n",
    "    m = int(1/(T * dt))\n",
    "    omega = np.zeros((sims, m+1))\n",
    "    iu = (1/nu) * np.log(1 - theta*nu - sigma*sigma*nu/2)\n",
    "    gamma = np.sqrt(kappa*kappa - 2*lam*lam*iu)\n",
    "    equity = np.zeros((sims, m+1))\n",
    "    drift = r - q\n",
    "    g = np.random.gamma(dt/nu, nu,(sims,m))\n",
    "    X = VGSA_TimeChange(sims, T, dt, S0, r, q, sigma, nu, theta, kappa, eta, lam)\n",
    "    jh = np.array([(ii)*dt for ii in range(m+1)], dtype=float)\n",
    "    omega = np.log(phi(jh, kappa, eta, lam, gamma, iu, nu))\n",
    "    domega = - np.diff(omega, prepend=0.0)                 \n",
    "    equity[:, 1:] = drift * dt + domega[:-1].T + X[:,:-1]\n",
    "    return S0 * np.exp(equity.cumsum(axis=1))  \n",
    "\n",
    "def A(t, kappa, eta, lam, gamma, iu):\n",
    "    num = np.exp(kappa*kappa*eta*t/(lam*lam))\n",
    "    par = np.cosh(gamma*t/2) + (kappa/gamma)*np.sinh(gamma*t/2)\n",
    "    ex = 2*kappa*eta/(lam*lam)\n",
    "    return num/(par**ex)\n",
    "\n",
    "def B(t, kappa, eta, lam, gamma, iu):\n",
    "    return (2*iu) / (kappa +gamma*np.cosh(gamma*t/2)/np.sinh(gamma*t/2))\n",
    "\n",
    "def phi(t, kappa, eta, lam, gamma, iu, nu):\n",
    "    \n",
    "    return A(t, kappa, eta, lam, gamma, iu)*np.exp(B(t, kappa, eta, lam, gamma, iu)/nu)\n",
    "\n",
    "def VGSA_TimeChange(sims, T, dt, S0, r, q, sigma, nu, theta, kappa, eta, lam):\n",
    "    m = int(1/(T * dt))\n",
    "    y = np.zeros((sims, m+1))\n",
    "    X = np.zeros((sims, m+1))\n",
    "    y[:,0] = 1/nu\n",
    "    Z1 = np.random.randn(sims, m)\n",
    "    Z2 = np.random.randn(sims, m)\n",
    "    for n in range(m):\n",
    "\n",
    "        y[:,n+1] = (y[:,n] + kappa*(eta - y[:,n])*dt + lam*np.sqrt(y[:,n])*np.sqrt(dt)*Z1[:,n]\n",
    "                   + (lam*lam)/4 * dt * (Z1[:,n]**2 - 1))\n",
    "        t_tilda = dt/2 * (y[:,n+1] +y[:,n])\n",
    "        g = np.random.gamma(t_tilda/nu, nu,sims)\n",
    "        X[:,n] = theta*g + sigma*np.sqrt(g)*Z2[:,n]     \n",
    "    return X"
   ]
  },
  {
   "cell_type": "code",
   "execution_count": 214,
   "metadata": {},
   "outputs": [
    {
     "name": "stdout",
     "output_type": "stream",
     "text": [
      "Elapsted time is 110.84 seconds.\n"
     ]
    }
   ],
   "source": [
    "st = time()\n",
    "S2, vol2 = simulate_GBMSA(100000, 1, 1/(360), 100, .18, .02, .01, 0.3877, 2.0, 0, .18**2)\n",
    "print(f'Elapsted time is {time() - st:.2f} seconds.')"
   ]
  },
  {
   "cell_type": "code",
   "execution_count": 187,
   "metadata": {},
   "outputs": [],
   "source": [
    "import pyodbc"
   ]
  },
  {
   "cell_type": "code",
   "execution_count": 365,
   "metadata": {},
   "outputs": [],
   "source": [
    "EffectiveDate = \"'2021-12-31'\"\n",
    "connstr = 'DRIVER={ODBC Driver 17 for SQL Server};SERVER=actuarialdata.nwie.net,1021;DATABASE=NFActCorp;Trusted_Connection=yes;'\n",
    "query = \"EXEC [EconData].[Curve_NominalRates_Get] \" + EffectiveDate\n",
    "query2 = \"Exec NFActCorp.QRM.SHARED_VOL_SURFACE_PIVOT_GET 'Master',\" + EffectiveDate + \", 'SPX'\"\n",
    "rates = []\n",
    "vol = []\n",
    "with pyodbc.connect(connstr) as cnxn:\n",
    "\n",
    "    with cnxn.cursor() as crs:\n",
    "        crs.execute(query)\n",
    "        for row in crs:\n",
    "            actual.append(row)\n",
    "    with cnxn.cursor() as crs:\n",
    "        crs.execute(query2)\n",
    "        for row in crs:\n",
    "            vol.append(row)"
   ]
  },
  {
   "cell_type": "code",
   "execution_count": 254,
   "metadata": {},
   "outputs": [],
   "source": [
    "import pyodbc\n",
    "import pandas as pd\n",
    "\n",
    "EffectiveDate = \"'2021-12-31'\"\n",
    "connstr = 'DRIVER={ODBC Driver 17 for SQL Server};SERVER=actuarialdata.nwie.net,1021;DATABASE=NFActCorp;Trusted_Connection=yes;'\n",
    "query = \"EXEC [EconData].[Curve_NominalRates_Get] \" + EffectiveDate\n",
    "query2 = \"Exec NFActCorp.QRM.SHARED_VOL_SURFACE_PIVOT_GET 'Master',\" + EffectiveDate + \", 'SPX'\"\n",
    "cnxn = pyodbc.connect(connstr)\n",
    "data = pd.read_sql(query2,cnxn)"
   ]
  },
  {
   "cell_type": "code",
   "execution_count": 415,
   "metadata": {},
   "outputs": [
    {
     "data": {
      "text/plain": [
       "array([0.41363521, 0.36679943, 0.32104491, 0.28016777, 0.23898043,\n",
       "       0.19574346, 0.15681678, 0.14111536, 0.14667996, 0.15522931,\n",
       "       0.16101886])"
      ]
     },
     "execution_count": 415,
     "metadata": {},
     "output_type": "execute_result"
    }
   ],
   "source": [
    "np.array(vol[:][:][11][3:])"
   ]
  },
  {
   "cell_type": "code",
   "execution_count": 276,
   "metadata": {},
   "outputs": [
    {
     "data": {
      "image/png": "[encoded data removed]",
      "text/plain": [
       "<Figure size 432x288 with 1 Axes>"
      ]
     },
     "metadata": {
      "needs_background": "light"
     },
     "output_type": "display_data"
    }
   ],
   "source": [
    "xAxis = np.arange(361)/360\n",
    "scns = np.random.choice(vol2.shape[0], 10)\n",
    "for s in range(10):\n",
    "    plt.plot(xAxis,vol2[scns[s],:])\n",
    "plt.title('Heston Vol Simualtion')\n",
    "plt.xlabel('Time')\n",
    "plt.ylabel('Volatility')\n",
    "plt.show()"
   ]
  },
  {
   "cell_type": "code",
   "execution_count": 220,
   "metadata": {},
   "outputs": [
    {
     "name": "stdout",
     "output_type": "stream",
     "text": [
      "Average Volatility after one year is:  15.78%\n"
     ]
    },
    {
     "data": {
      "image/png": "[encoded data removed]",
      "text/plain": [
       "<Figure size 432x288 with 1 Axes>"
      ]
     },
     "metadata": {
      "needs_background": "light"
     },
     "output_type": "display_data"
    }
   ],
   "source": [
    "x = vol2[:,-1]\n",
    "plt.hist(x, density=True, bins=100)  \n",
    "plt.ylabel('Probability')\n",
    "plt.xlabel('Vol');\n",
    "print(f'Average Volatility after one year is:  {np.mean(x):.2%}')"
   ]
  },
  {
   "cell_type": "code",
   "execution_count": 272,
   "metadata": {},
   "outputs": [],
   "source": [
    "@njit\n",
    "def HESTON_VOL_njit(rvs, nsim=100000, timesteps=360, maturity=1, psi=.3877, theta = 0.18*0.18, kappa = 2, V0 = .18):\n",
    "    dt = maturity / timesteps\n",
    "    V = np.zeros((nsim, timesteps+1))\n",
    "    V[:,0] = V0*V0\n",
    "    for n in range(timesteps):\n",
    "        rv = rvs[:,n]\n",
    "        V[:,n+1] = (np.maximum(V[:,n] + kappa * (theta - V[:,n]) * dt + \n",
    "                               psi * np.sqrt(np.maximum(V[:,n],0.0001)) * rv * np.sqrt(dt), 0.0001))\n",
    "    Vol = np.sqrt(V)\n",
    "    return Vol\n",
    "\n",
    "\n",
    "def simulate_GBMSA_njit(sims, T, dt, S0, V0, r, q, psi, kappa, rho, theta):\n",
    "    m = int(1/(T * dt))\n",
    "    equity = np.zeros((sims, m+1))\n",
    "    X1 = np.random.randn(sims, m)\n",
    "    X2 = np.random.randn(sims, m)\n",
    "    X3 = rho * X1 + np.sqrt(1-rho*rho)*X2\n",
    "    vol = HESTON_VOL_njit(X1, sims, m, T, psi, theta, kappa, V0)\n",
    "    equity[:, 1:] = (r-q-vol[:,0:-1]*vol[:,0:-1] / 2) * dt + vol[:,0:-1] * np.sqrt(dt) * X3\n",
    "    return S0 * np.exp(equity.cumsum(axis=1))"
   ]
  },
  {
   "cell_type": "code",
   "execution_count": 23,
   "metadata": {},
   "outputs": [
    {
     "name": "stdout",
     "output_type": "stream",
     "text": [
      "Elapsted time is 54.96 seconds.\n"
     ]
    }
   ],
   "source": [
    "st = time()\n",
    "S2_njit = simulate_GBMSA_njit(1000000, 1, 1/360, 100, .18, .02, .01, 0.3877, 2.0, -0.70, .18**2)\n",
    "print(f'Elapsted time is {time() - st:.2f} seconds.')"
   ]
  },
  {
   "cell_type": "code",
   "execution_count": null,
   "metadata": {},
   "outputs": [],
   "source": [
    "S1 = simulate_GBM(1000, 1, 1/360, 100, .02, .01, 0.18)\n",
    "S2 = simulate_GBMSA(1000, 1, 1/360, 100, .18, .02, .01, 0.3877, 2.0, -0.70, .18**2)\n",
    "S3 = simulate_VG(1000, 1, 1/360, 100, .02, .01, 0.18, 0.18, -.01)\n",
    "S4 = simulate_VGSA(1000, 1, 1/360, 100, .02, .01, 0.18, 0.18, -.01, 1.0, 1/.18, .2)"
   ]
  },
  {
   "cell_type": "code",
   "execution_count": 81,
   "metadata": {},
   "outputs": [],
   "source": [
    "def EuroPricer(strike, discount, optiontype, equity):\n",
    "    if optiontype == 'C':\n",
    "        Price = np.mean(np.maximum(equity[:,-1] - strike, 0)*np.exp(-discount))\n",
    "    else:\n",
    "        Price = np.mean(np.maximum(strike - equity[:,-1], 0)*np.exp(-discount))\n",
    "    return Price"
   ]
  },
  {
   "cell_type": "code",
   "execution_count": 314,
   "metadata": {},
   "outputs": [
    {
     "name": "stdout",
     "output_type": "stream",
     "text": [
      "Black-Scholes Price: $8.74\n",
      "GBM Price: $8.73\n",
      "GBMSA Price: $8.73\n"
     ]
    }
   ],
   "source": [
    "r = .04\n",
    "q = .02\n",
    "s0 = 100\n",
    "sigma = .2\n",
    "psi = 0.3877\n",
    "kappa = 2.0\n",
    "rho = 0\n",
    "theta = .213\n",
    "k = 100\n",
    "T = 1\n",
    "dt = 1/(360*2)\n",
    "sims = 100000\n",
    "c = BSCall(r, q, s0, sigma, k, T)\n",
    "np.random.seed(1234)\n",
    "S1 = simulate_GBM(sims, T, dt, s0, r, q, sigma)\n",
    "c1 = EuroPricer(k, r*T, 'C', S1)\n",
    "np.random.seed(1234)\n",
    "S2 = simulate_GBMSA_njit(sims, T, dt, s0, sigma, r, q, psi, kappa, rho, theta**2)\n",
    "c2 = EuroPricer(k, r*T, 'C', S2)\n",
    "print(f'Black-Scholes Price: ${c.price:.2f}')\n",
    "print(f'GBM Price: ${c1:.2f}')\n",
    "print(f'GBMSA Price: ${c2:.2f}')"
   ]
  },
  {
   "cell_type": "code",
   "execution_count": 400,
   "metadata": {},
   "outputs": [],
   "source": [
    "from abc import ABC, abstractmethod\n",
    "from typing import Tuple, List, Sequence, Dict, Union\n",
    "from scipy.optimize import minimize, OptimizeResult \n",
    "from scipy.optimize import Bounds\n",
    "from random import seed\n",
    "from scipy.optimize import least_squares\n",
    "\n",
    "class OptionPricingModel(ABC):\n",
    "    \"\"\"\n",
    "    Model that can be used to price Euoprean Vanilla Options.\n",
    "    \"\"\"\n",
    "    \n",
    "    def __init__(self):\n",
    "        self._parameters = None\n",
    "    \n",
    "    @property\n",
    "    def parameters(self) -> Sequence[float]:\n",
    "        \"\"\"\n",
    "        The model parameters, returned as a list of real numbers.\n",
    "        \"\"\"\n",
    "        return self._parameters\n",
    "\n",
    "    \n",
    "    @parameters.setter\n",
    "    @abstractmethod\n",
    "    def parameters(self, value: Sequence[float]):\n",
    "        \"\"\"\n",
    "        The model parameters, returned as a list of real numbers.\n",
    "        \"\"\"\n",
    "        pass\n",
    "        \n",
    "    \n",
    "    @abstractmethod\n",
    "    def simulate(self):\n",
    "        pass   \n",
    "        \n",
    "        \n",
    "    def calibrate(self, real_prices, clsOption, strikes, maturities, weight: np.array=None):\n",
    "        if weight is None:\n",
    "            weight = np.ones(real_prices.shape)\n",
    "        dt = 1/360\n",
    "        sims = 10000\n",
    "        simlen = max(maturities)\n",
    "        cols = (maturities / dt + 1).astype(int)\n",
    "        loss = self.get_loss_function(real_prices, weight, clsOption, strikes, maturities, sims, simlen, cols, dt)\n",
    "        res = minimize(loss, self.parameters, options=self.options)\n",
    "        self.parameters = res.x\n",
    "        return res, self\n",
    "        \n",
    "    def get_loss_function(self, real_prices, weight, clsOption, strikes, maturities, sims, simlen, cols, dt):    \n",
    "\n",
    "        def _loss_function(parameters):\n",
    "            np.random.seed(1234)\n",
    "            self.paramters = parameters\n",
    "            S = self.simulate(sims, simlen, dt)\n",
    "            predicted = []\n",
    "            for i in range(len(strikes)):\n",
    "                predicted.append(clsOption(self.r, S[:,:cols[i]], self.s0*strikes[i], maturities[i]).price)\n",
    "            return sum(weight*(real_prices - np.array(predicted, dtype=float))**2)\n",
    "        return _loss_function\n",
    "    "
   ]
  },
  {
   "cell_type": "code",
   "execution_count": 401,
   "metadata": {},
   "outputs": [],
   "source": [
    "class GBMSA(OptionPricingModel):\n",
    "    \n",
    "    def __init__(self, s0, v0, r, q, psi, kappa, rho, theta):\n",
    "        super().__init__()\n",
    "        self.r = r\n",
    "        self.q = q\n",
    "        self.s0 = s0\n",
    "        self.v0 = v0\n",
    "        self.psi = psi\n",
    "        self.kappa = kappa\n",
    "        self.rho = rho\n",
    "        self.theta = theta\n",
    "        self.bounds = ([0, 0, -1.0, 0],[1.0, 10.0, 1.0, 1.0])\n",
    "        self.options = {'gtol': 1e-6, 'disp': True}\n",
    "        self.parameters = (self.psi, self.kappa, self.rho, self.theta)\n",
    "    \n",
    "    @property\n",
    "    def parameters(self) -> Sequence[float]:\n",
    "        \"\"\"\n",
    "        The model parameters, returned as a list of real numbers.\n",
    "        \"\"\"\n",
    "        return self._parameters\n",
    "    \n",
    "    @parameters.setter\n",
    "    def parameters(self, value):\n",
    "        if value is not None:\n",
    "            self.psi = value[0]\n",
    "            self.kappa = value[1]\n",
    "            self.rho = value[2]\n",
    "            self.theta = value[3]\n",
    "            self._parameters = value\n",
    "\n",
    "            \n",
    "    def HESTON_VOL(self,rvs, nsim=100000, timesteps=360, maturity=1, psi=.3877, theta = 0.18*0.18, kappa = 2, v0 = .18):\n",
    "        dt = maturity / timesteps\n",
    "        v = np.zeros((nsim, timesteps+1))\n",
    "        v[:,0] = v0*v0\n",
    "        for n in range(timesteps):\n",
    "            rv = rvs[:,n]\n",
    "            v[:,n+1] = np.maximum(v[:,n] + kappa * (theta - v[:,n]) * dt + \n",
    "                                   psi * np.sqrt(v[:,n]) * rv * np.sqrt(dt),0.0001)\n",
    "                \n",
    "        vol = np.sqrt(v)\n",
    "        return vol\n",
    "\n",
    "    def simulate(self, sims, T, dt):\n",
    "        m = int(1/(T * dt))\n",
    "        equity = np.zeros((sims, m+1))\n",
    "        X1 = np.random.randn(sims, m)\n",
    "        X2 = np.random.randn(sims, m)\n",
    "        X3 = self.rho * X1 + np.sqrt(1-self.rho*self.rho)*X2\n",
    "        vol = self.HESTON_VOL(X1, sims, m, T, self.psi, self.theta, self.kappa, self.v0)\n",
    "        equity[:, 1:] = (self.r-self.q-vol[:,0:-1]*vol[:,0:-1] / 2) * dt + vol[:,0:-1] * np.sqrt(dt) * X3\n",
    "        return self.s0 * np.exp(equity.cumsum(axis=1))"
   ]
  },
  {
   "cell_type": "code",
   "execution_count": 371,
   "metadata": {},
   "outputs": [
    {
     "name": "stdout",
     "output_type": "stream",
     "text": [
      "[50.46193451 41.27208778 32.29574518 23.73097326 15.72081812  8.5763353\n",
      "  3.25038525  0.92959338  0.3323991   0.13600996  0.05288513]\n",
      "Elapsted time is 0.00 seconds.\n"
     ]
    }
   ],
   "source": [
    "st = time()\n",
    "r = .04\n",
    "q = .02\n",
    "s0 = 100\n",
    "strikes = np.array([0.5, 0.6, 0.7, 0.8, 0.90, 1.00, 1.10, 1.2, 1.3, 1.4, 1.5])\n",
    "maturities = np.array([1, 1, 1, 1, 1, 1, 1, 1, 1, 1, 1, 1,])\n",
    "iVols = np.array([0.4136352076, 0.3667994289, 0.3210449054, 0.2801677723, 0.2389804271, 0.1957434566, 0.1568167792, 0.1411153595, 0.1466799576, 0.155229309, 0.1610188562])\n",
    "options = []\n",
    "for i in range(len(iVols)):\n",
    "    options.append(BSCall(r, q, s0, iVols[i], s0*strikes[i], maturities[i]))\n",
    "real_prices = np.array([o.price for o in options])\n",
    "print(real_prices)\n",
    "print(f'Elapsted time is {time() - st:.2f} seconds.')"
   ]
  },
  {
   "cell_type": "code",
   "execution_count": 405,
   "metadata": {},
   "outputs": [
    {
     "name": "stdout",
     "output_type": "stream",
     "text": [
      "[5.00158799e+01 4.05473863e+01 3.13477684e+01 2.27072791e+01\n",
      " 1.50602357e+01 8.86445859e+00 4.46163108e+00 1.84693899e+00\n",
      " 6.12333353e-01 1.61941650e-01 3.53412647e-02]\n",
      "Elapsted time is 5.12 seconds.\n"
     ]
    },
    {
     "data": {
      "text/plain": [
       "5.578133598769071"
      ]
     },
     "execution_count": 405,
     "metadata": {},
     "output_type": "execute_result"
    }
   ],
   "source": [
    "st = time()\n",
    "v0 = .18\n",
    "psi = .3\n",
    "kappa = 2.0\n",
    "rho = -0.75\n",
    "theta = .23**2\n",
    "k = 100\n",
    "T = 1\n",
    "dt = 1/360\n",
    "sims = 100000\n",
    "model = GBMSA(s0, v0, r, q, psi, kappa, rho, theta)\n",
    "S = model.simulate(sims, 1, 1/360)\n",
    "h_options = []\n",
    "for s in range(len(strikes)):\n",
    "    h_options.append(VanillaCall(r, S, strikes[s]*100,1))\n",
    "h_prices = np.array([o.price for o in h_options])\n",
    "print(h_prices)\n",
    "print(f'Elapsted time is {time() - st:.2f} seconds.')\n",
    "sum((h_prices - real_prices)**2)"
   ]
  },
  {
   "cell_type": "code",
   "execution_count": 406,
   "metadata": {},
   "outputs": [
    {
     "name": "stdout",
     "output_type": "stream",
     "text": [
      "Optimization terminated successfully.\n",
      "         Current function value: 4.468894\n",
      "         Iterations: 0\n",
      "         Function evaluations: 6\n",
      "         Gradient evaluations: 1\n",
      "Elapsted time is 2.48 seconds.\n"
     ]
    }
   ],
   "source": [
    "st = time()\n",
    "model.calibrate(real_prices, VanillaCall, strikes, maturities)\n",
    "print(f'Elapsted time is {time() - st:.2f} seconds.')"
   ]
  },
  {
   "cell_type": "code",
   "execution_count": 407,
   "metadata": {},
   "outputs": [
    {
     "name": "stdout",
     "output_type": "stream",
     "text": [
      "[4.99554142e+01 4.04909575e+01 3.12959936e+01 2.26704790e+01\n",
      " 1.50437155e+01 8.87109403e+00 4.47755630e+00 1.85744947e+00\n",
      " 6.11273454e-01 1.58981500e-01 3.43832731e-02]\n",
      "Elapsted time is 5.05 seconds.\n"
     ]
    },
    {
     "data": {
      "text/plain": [
       "5.981736045104063"
      ]
     },
     "execution_count": 407,
     "metadata": {},
     "output_type": "execute_result"
    }
   ],
   "source": [
    "st = time()\n",
    "S = model.simulate(sims, 1, 1/360)\n",
    "h_options = []\n",
    "for s in range(len(strikes)):\n",
    "    h_options.append(VanillaCall(r, S, strikes[s]*100,1))\n",
    "h_prices = np.array([o.price for o in h_options])\n",
    "print(h_prices)\n",
    "print(f'Elapsted time is {time() - st:.2f} seconds.')\n",
    "sum((h_prices - real_prices)**2)"
   ]
  },
  {
   "cell_type": "code",
   "execution_count": 412,
   "metadata": {},
   "outputs": [
    {
     "data": {
      "text/plain": [
       "0.23"
      ]
     },
     "execution_count": 412,
     "metadata": {},
     "output_type": "execute_result"
    }
   ],
   "source": [
    "np.sqrt(model.parameters[3])"
   ]
  },
  {
   "cell_type": "code",
   "execution_count": 72,
   "metadata": {},
   "outputs": [],
   "source": [
    "def RebateBufferPricer(buffer, discount, rebate, equity):\n",
    "    k = (1-buffer)*equity[:,0]\n",
    "    rebate = rebate * equity[:,0]\n",
    "    Price = np.mean(((equity[:,-1] >= k)*rebate - np.maximum(k - equity[:,-1], 0))*np.exp(-discount))\n",
    "\n",
    "    return Price"
   ]
  },
  {
   "cell_type": "code",
   "execution_count": 74,
   "metadata": {},
   "outputs": [
    {
     "name": "stdout",
     "output_type": "stream",
     "text": [
      "The Price of a 10% coupon with a 10% buffer option is $2.76.\n"
     ]
    }
   ],
   "source": [
    "buffer = .10\n",
    "rebate = .10\n",
    "\n",
    "\n",
    "print(f'The Price of a {rebate:.0%} coupon with a {buffer:.0%} buffer option is ${RebateBufferPricer(buffer,r,rebate,S):.2f}.')"
   ]
  },
  {
   "cell_type": "code",
   "execution_count": 118,
   "metadata": {},
   "outputs": [],
   "source": [
    "S1 = simulate_GBM(100000, 1, 1/360, 100, .02, .01, 0.18)\n",
    "S2, vol2 = simulate_GBMSA(100000, 1, 1/360, 100, .18, .02, .01, 0.3877, 2.0, -0.70, .18**2)"
   ]
  },
  {
   "cell_type": "code",
   "execution_count": 119,
   "metadata": {},
   "outputs": [
    {
     "name": "stdout",
     "output_type": "stream",
     "text": [
      "The Price of a 10% coupon with a 10% buffer option is $4.21.\n",
      "The Price of a 10% coupon with a 10% buffer option is $4.43.\n"
     ]
    }
   ],
   "source": [
    "buffer = .10\n",
    "rebate = .10\n",
    "\n",
    "\n",
    "print(f'The Price of a {rebate:.0%} coupon with a {buffer:.0%} buffer option is ${RebateBufferPricer(buffer,r,rebate,S1):.2f}.')\n",
    "print(f'The Price of a {rebate:.0%} coupon with a {buffer:.0%} buffer option is ${RebateBufferPricer(buffer,r,rebate,S2):.2f}.')"
   ]
  },
  {
   "cell_type": "code",
   "execution_count": 234,
   "metadata": {},
   "outputs": [
    {
     "name": "stdout",
     "output_type": "stream",
     "text": [
      "Black-Scholes Price: $8.74\n",
      "VG Price: $8.85\n"
     ]
    }
   ],
   "source": [
    "r = .04\n",
    "q = .02\n",
    "s0 = 100\n",
    "sigma = .2\n",
    "k = 100\n",
    "T = 1\n",
    "dt = 1/(360*2)\n",
    "sims = 100000\n",
    "c = BSCall(r, q, s0, sigma, k, T)\n",
    "S3 = simulate_VG(100000, 1, dt, s0, r, q, 0.2, 0.4, .1)\n",
    "c3 = EuroPricer(k, r*T, 'C', S3)\n",
    "print(f'Black-Scholes Price: ${c.price:.2f}')\n",
    "print(f'VG Price: ${c3:.2f}')"
   ]
  },
  {
   "cell_type": "code",
   "execution_count": null,
   "metadata": {},
   "outputs": [],
   "source": [
    "def simulate_VG(sims, T, dt, S0, r, q, sigma, nu, theta):\n",
    "    m = int(1/(T * dt))\n",
    "    omega = np.log(1 - theta*nu - sigma*sigma*nu/2)/nu\n",
    "    equity = np.zeros((sims, m+1))\n",
    "    drift = r - q + omega\n",
    "    g = np.random.gamma(dt/nu, nu,(sims,m))\n",
    "    X = theta*g + sigma*np.sqrt(g)*np.random.randn(sims, m)\n",
    "    equity[:, 1:] = drift * dt + X\n",
    "    return S0 * np.exp(equity.cumsum(axis=1))    "
   ]
  },
  {
   "cell_type": "code",
   "execution_count": 33,
   "metadata": {},
   "outputs": [],
   "source": [
    "class VG(OptionPricingModel):\n",
    "    \n",
    "    def __init__(self, s0, v0, r, q, sigma, nu, theta):\n",
    "        super().__init__()\n",
    "        self.r = r\n",
    "        self.q = q\n",
    "        self.s0 = s0\n",
    "        self.v0 = v0\n",
    "        self.sigma = sigma        \n",
    "        self.nu = nu\n",
    "        self.theta = theta\n",
    "        self.bounds = Bounds([0.001, 0.001, -1.0, 0.001], [1.0, 10.0, 1.0, 1.0])\n",
    "        self.options = {'disp': True}\n",
    "        self.parameters = (self.sigma, self.nu, self.theta)\n",
    "    \n",
    "    @property\n",
    "    def parameters(self) -> Sequence[float]:\n",
    "        \"\"\"\n",
    "        The model parameters, returned as a list of real numbers.\n",
    "        \"\"\"\n",
    "        return self._parameters\n",
    "    \n",
    "    @parameters.setter\n",
    "    def parameters(self, value):\n",
    "        if value is not None:\n",
    "            self.sigma = value[0]\n",
    "            self.nu = value[1]\n",
    "            self.theta = value[2]\n",
    "            self._parameters = value\n",
    "\n",
    "\n",
    "    def simulate(self, sims, T, dt):\n",
    "        m = int(1/(T * dt))\n",
    "        omega = np.log(1 - theta*nu - sigma*sigma*nu/2)/nu\n",
    "        equity = np.zeros((sims, m+1))\n",
    "        drift = r - q + omega\n",
    "        g = np.random.gamma(dt/nu, nu,(sims,m))\n",
    "        X = theta*g + sigma*np.sqrt(g)*np.random.randn(sims, m)\n",
    "        equity[:, 1:] = drift * dt + X\n",
    "        return S0 * np.exp(equity.cumsum(axis=1))   "
   ]
  },
  {
   "cell_type": "code",
   "execution_count": 375,
   "metadata": {},
   "outputs": [],
   "source": [
    "import numpy as np\n",
    "# Parallel computation using numba\n",
    "from numba import jit, njit, prange \n",
    "from numba import cuda\n",
    "i = complex(0,1)\n",
    "# To be used in the Heston pricer\n",
    "@jit\n",
    "def fHeston(s, St, K, r, T, sigma, kappa, theta, volvol, rho):\n",
    "    # To be used a lot\n",
    "    prod = rho * sigma *i *s \n",
    "    \n",
    "    # Calculate d\n",
    "    d1 = (prod - kappa)**2\n",
    "    d2 = (sigma**2) * (i*s + s**2)\n",
    "    d = np.sqrt(d1 + d2)\n",
    "    \n",
    "    # Calculate g\n",
    "    g1 = kappa - prod - d\n",
    "    g2 = kappa - prod + d\n",
    "    g = g1/g2\n",
    "    \n",
    "    # Calculate first exponential\n",
    "    exp1 = np.exp(np.log(St) * i *s) * np.exp(i * s* r* T)\n",
    "    exp2 = 1 - g * np.exp(-d *T)\n",
    "    exp3 = 1- g\n",
    "    mainExp1 = exp1*np.power(exp2/exp3, -2*theta*kappa/(sigma **2))\n",
    "    \n",
    "    # Calculate second exponential\n",
    "    exp4 = theta * kappa * T/(sigma **2)\n",
    "    exp5 = volvol/(sigma **2)\n",
    "    exp6 = (1 - np.exp(-d * T))/(1 - g * np.exp(-d * T))\n",
    "    mainExp2 = np.exp((exp4 * g1) + (exp5 *g1 * exp6))\n",
    "    \n",
    "    return (mainExp1 * mainExp2)\n",
    "# Heston Pricer (allow for parallel processing with numba)\n",
    "@jit(forceobj=True)\n",
    "def priceHestonMid(St, K, r, T, sigma, kappa, theta, volvol, rho):\n",
    "    P, iterations, maxNumber = 0,1000,100\n",
    "    ds = maxNumber/iterations\n",
    "    \n",
    "    element1 = 0.5 * (St - K * np.exp(-r * T))\n",
    "    \n",
    "    # Calculate the complex integral\n",
    "    # Using j instead of i to avoid confusion\n",
    "    for j in prange(1, iterations):\n",
    "        s1 = ds * (2*j + 1)/2\n",
    "        s2 = s1 - i\n",
    "        \n",
    "        numerator1 = fHeston(s2,  St, K, r, T, \n",
    "                             sigma, kappa, theta, volvol, rho)\n",
    "        numerator2 = K * fHeston(s1,  St, K, r, T, \n",
    "                              sigma, kappa, theta, volvol, rho)\n",
    "        denominator = np.exp(np.log(K) * i * s1) *i *s1\n",
    "        \n",
    "        P = P + ds *(numerator1 - numerator2)/denominator\n",
    "    \n",
    "    element2 = P/np.pi\n",
    "    \n",
    "    return np.real((element1 + element2))"
   ]
  },
  {
   "cell_type": "code",
   "execution_count": 438,
   "metadata": {},
   "outputs": [
    {
     "data": {
      "text/plain": [
       "7.102183187980466"
      ]
     },
     "execution_count": 438,
     "metadata": {},
     "output_type": "execute_result"
    }
   ],
   "source": [
    "priceHestonMid(100, 100, .04, 1, .2*.2, 1.0, .2*.2, 0, 0)"
   ]
  }
 ],
 "metadata": {
  "interpreter": {
   "hash": "48c6fb745f70ce4ea6b147b80fb45b67eb2c7b6e4643d51cba6f96d267288eb0"
  },
  "kernelspec": {
   "display_name": "Python 3",
   "language": "python",
   "name": "python3"
  },
  "language_info": {
   "codemirror_mode": {
    "name": "ipython",
    "version": 3
   },
   "file_extension": ".py",
   "mimetype": "text/x-python",
   "name": "python",
   "nbconvert_exporter": "python",
   "pygments_lexer": "ipython3",
   "version": "3.7.4"
  }
 },
 "nbformat": 4,
 "nbformat_minor": 2
}

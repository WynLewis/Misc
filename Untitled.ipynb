{
 "cells": [
  {
   "cell_type": "code",
   "execution_count": 1,
   "metadata": {},
   "outputs": [],
   "source": [
    "from bs4 import BeautifulSoup\n",
    "import numpy as np\n",
    "import pandas as pd\n",
    "import requests\n",
    "import plotly.graph_objects as go\n",
    "import plotly.io as pio\n",
    "pio.renderers.default = \"notebook_connected\""
   ]
  },
  {
   "cell_type": "code",
   "execution_count": 2,
   "metadata": {},
   "outputs": [],
   "source": [
    "# GET WEB PAGE\n",
    "proxies = {\n",
    "    \"http\": \"swg.glb.nwie.net:8009\",\n",
    "    \"https\": \"swg.glb.nwie.net:8009\"\n",
    "}\n",
    "year = 2022\n",
    "\n",
    "url = f\"https://home.treasury.gov/resource-center/data-chart-center/interest-rates/TextView?type=daily_treasury_yield_curve&field_tdr_date_value={year}\"\n",
    "page = requests.get(url, proxies=proxies)\n",
    "\n",
    "# COOK SOUP\n",
    "soup = BeautifulSoup(page.content, 'html.parser')\n",
    "\n",
    "# FIND RATES TABLE\n",
    "table = soup.find(\"table\", class_=\"views-table views-view-table cols-20\")\n",
    "\n",
    "# GET TABLE HEADER\n",
    "header = [\n",
    "    tableheader.text.strip()\n",
    "    for tableheader in table.find(\"thead\").find(\"tr\").find_all(\"th\")]\n",
    "header\n",
    "\n",
    "# GET TABLE ROWS\n",
    "data = []\n",
    "for tablerow in table.find(\"tbody\").find_all(\"tr\"):\n",
    "    row = [\n",
    "        element.text.strip()\n",
    "        for element in tablerow.find_all(\"td\")]\n",
    "\n",
    "    data.append(row)\n",
    "\n",
    "\n",
    "# DATAFRAME\n",
    "df = pd.DataFrame(columns=header, data=data)\n",
    "df[\"Date\"] = pd.to_datetime(df.Date)\n",
    "df = df.set_index(\"Date\")\n",
    "\n",
    "# REMOVE HIDDEN COLUMNS IN HTML\n",
    "df = df.iloc[:, 7:].astype(float)\n",
    "\n",
    "# CONVERT COLUMNS TO MONTHS T\\d\\d\\d\n",
    "df.columns = [\n",
    "\tf\"T{int(x.split(' ')[0]):03d}\"\n",
    "\tif \"Mo\" in x\n",
    "\telse f\"T{12 * int(x.split(' ')[0]):03d}\"\n",
    "\tfor x in df.columns\n",
    "]"
   ]
  },
  {
   "cell_type": "code",
   "execution_count": 12,
   "metadata": {},
   "outputs": [
    {
     "ename": "KeyError",
     "evalue": "'2022/01/03'",
     "output_type": "error",
     "traceback": [
      "\u001b[1;31m---------------------------------------------------------------------------\u001b[0m",
      "\u001b[1;31mKeyError\u001b[0m                                  Traceback (most recent call last)",
      "\u001b[1;32m~\\AppData\\Local\\Continuum\\anaconda3\\lib\\site-packages\\pandas\\core\\indexes\\base.py\u001b[0m in \u001b[0;36mget_loc\u001b[1;34m(self, key, method, tolerance)\u001b[0m\n\u001b[0;32m   2601\u001b[0m             \u001b[1;32mtry\u001b[0m\u001b[1;33m:\u001b[0m\u001b[1;33m\u001b[0m\u001b[1;33m\u001b[0m\u001b[0m\n\u001b[1;32m-> 2602\u001b[1;33m                 \u001b[1;32mreturn\u001b[0m \u001b[0mself\u001b[0m\u001b[1;33m.\u001b[0m\u001b[0m_engine\u001b[0m\u001b[1;33m.\u001b[0m\u001b[0mget_loc\u001b[0m\u001b[1;33m(\u001b[0m\u001b[0mkey\u001b[0m\u001b[1;33m)\u001b[0m\u001b[1;33m\u001b[0m\u001b[1;33m\u001b[0m\u001b[0m\n\u001b[0m\u001b[0;32m   2603\u001b[0m             \u001b[1;32mexcept\u001b[0m \u001b[0mKeyError\u001b[0m\u001b[1;33m:\u001b[0m\u001b[1;33m\u001b[0m\u001b[1;33m\u001b[0m\u001b[0m\n",
      "\u001b[1;32mpandas\\_libs\\index.pyx\u001b[0m in \u001b[0;36mpandas._libs.index.IndexEngine.get_loc\u001b[1;34m()\u001b[0m\n",
      "\u001b[1;32mpandas\\_libs\\index.pyx\u001b[0m in \u001b[0;36mpandas._libs.index.IndexEngine.get_loc\u001b[1;34m()\u001b[0m\n",
      "\u001b[1;32mpandas\\_libs\\hashtable_class_helper.pxi\u001b[0m in \u001b[0;36mpandas._libs.hashtable.PyObjectHashTable.get_item\u001b[1;34m()\u001b[0m\n",
      "\u001b[1;32mpandas\\_libs\\hashtable_class_helper.pxi\u001b[0m in \u001b[0;36mpandas._libs.hashtable.PyObjectHashTable.get_item\u001b[1;34m()\u001b[0m\n",
      "\u001b[1;31mKeyError\u001b[0m: '2022/01/03'",
      "\nDuring handling of the above exception, another exception occurred:\n",
      "\u001b[1;31mKeyError\u001b[0m                                  Traceback (most recent call last)",
      "\u001b[1;32m<ipython-input-12-355c995bc897>\u001b[0m in \u001b[0;36m<module>\u001b[1;34m\u001b[0m\n\u001b[1;32m----> 1\u001b[1;33m \u001b[0mdf\u001b[0m\u001b[1;33m[\u001b[0m\u001b[1;34m\"2022/01/03\"\u001b[0m\u001b[1;33m]\u001b[0m\u001b[1;33m\u001b[0m\u001b[1;33m\u001b[0m\u001b[0m\n\u001b[0m",
      "\u001b[1;32m~\\AppData\\Local\\Continuum\\anaconda3\\lib\\site-packages\\pandas\\core\\frame.py\u001b[0m in \u001b[0;36m__getitem__\u001b[1;34m(self, key)\u001b[0m\n\u001b[0;32m   2915\u001b[0m             \u001b[1;32mif\u001b[0m \u001b[0mself\u001b[0m\u001b[1;33m.\u001b[0m\u001b[0mcolumns\u001b[0m\u001b[1;33m.\u001b[0m\u001b[0mnlevels\u001b[0m \u001b[1;33m>\u001b[0m \u001b[1;36m1\u001b[0m\u001b[1;33m:\u001b[0m\u001b[1;33m\u001b[0m\u001b[1;33m\u001b[0m\u001b[0m\n\u001b[0;32m   2916\u001b[0m                 \u001b[1;32mreturn\u001b[0m \u001b[0mself\u001b[0m\u001b[1;33m.\u001b[0m\u001b[0m_getitem_multilevel\u001b[0m\u001b[1;33m(\u001b[0m\u001b[0mkey\u001b[0m\u001b[1;33m)\u001b[0m\u001b[1;33m\u001b[0m\u001b[1;33m\u001b[0m\u001b[0m\n\u001b[1;32m-> 2917\u001b[1;33m             \u001b[0mindexer\u001b[0m \u001b[1;33m=\u001b[0m \u001b[0mself\u001b[0m\u001b[1;33m.\u001b[0m\u001b[0mcolumns\u001b[0m\u001b[1;33m.\u001b[0m\u001b[0mget_loc\u001b[0m\u001b[1;33m(\u001b[0m\u001b[0mkey\u001b[0m\u001b[1;33m)\u001b[0m\u001b[1;33m\u001b[0m\u001b[1;33m\u001b[0m\u001b[0m\n\u001b[0m\u001b[0;32m   2918\u001b[0m             \u001b[1;32mif\u001b[0m \u001b[0mis_integer\u001b[0m\u001b[1;33m(\u001b[0m\u001b[0mindexer\u001b[0m\u001b[1;33m)\u001b[0m\u001b[1;33m:\u001b[0m\u001b[1;33m\u001b[0m\u001b[1;33m\u001b[0m\u001b[0m\n\u001b[0;32m   2919\u001b[0m                 \u001b[0mindexer\u001b[0m \u001b[1;33m=\u001b[0m \u001b[1;33m[\u001b[0m\u001b[0mindexer\u001b[0m\u001b[1;33m]\u001b[0m\u001b[1;33m\u001b[0m\u001b[1;33m\u001b[0m\u001b[0m\n",
      "\u001b[1;32m~\\AppData\\Local\\Continuum\\anaconda3\\lib\\site-packages\\pandas\\core\\indexes\\base.py\u001b[0m in \u001b[0;36mget_loc\u001b[1;34m(self, key, method, tolerance)\u001b[0m\n\u001b[0;32m   2602\u001b[0m                 \u001b[1;32mreturn\u001b[0m \u001b[0mself\u001b[0m\u001b[1;33m.\u001b[0m\u001b[0m_engine\u001b[0m\u001b[1;33m.\u001b[0m\u001b[0mget_loc\u001b[0m\u001b[1;33m(\u001b[0m\u001b[0mkey\u001b[0m\u001b[1;33m)\u001b[0m\u001b[1;33m\u001b[0m\u001b[1;33m\u001b[0m\u001b[0m\n\u001b[0;32m   2603\u001b[0m             \u001b[1;32mexcept\u001b[0m \u001b[0mKeyError\u001b[0m\u001b[1;33m:\u001b[0m\u001b[1;33m\u001b[0m\u001b[1;33m\u001b[0m\u001b[0m\n\u001b[1;32m-> 2604\u001b[1;33m                 \u001b[1;32mreturn\u001b[0m \u001b[0mself\u001b[0m\u001b[1;33m.\u001b[0m\u001b[0m_engine\u001b[0m\u001b[1;33m.\u001b[0m\u001b[0mget_loc\u001b[0m\u001b[1;33m(\u001b[0m\u001b[0mself\u001b[0m\u001b[1;33m.\u001b[0m\u001b[0m_maybe_cast_indexer\u001b[0m\u001b[1;33m(\u001b[0m\u001b[0mkey\u001b[0m\u001b[1;33m)\u001b[0m\u001b[1;33m)\u001b[0m\u001b[1;33m\u001b[0m\u001b[1;33m\u001b[0m\u001b[0m\n\u001b[0m\u001b[0;32m   2605\u001b[0m         \u001b[0mindexer\u001b[0m \u001b[1;33m=\u001b[0m \u001b[0mself\u001b[0m\u001b[1;33m.\u001b[0m\u001b[0mget_indexer\u001b[0m\u001b[1;33m(\u001b[0m\u001b[1;33m[\u001b[0m\u001b[0mkey\u001b[0m\u001b[1;33m]\u001b[0m\u001b[1;33m,\u001b[0m \u001b[0mmethod\u001b[0m\u001b[1;33m=\u001b[0m\u001b[0mmethod\u001b[0m\u001b[1;33m,\u001b[0m \u001b[0mtolerance\u001b[0m\u001b[1;33m=\u001b[0m\u001b[0mtolerance\u001b[0m\u001b[1;33m)\u001b[0m\u001b[1;33m\u001b[0m\u001b[1;33m\u001b[0m\u001b[0m\n\u001b[0;32m   2606\u001b[0m         \u001b[1;32mif\u001b[0m \u001b[0mindexer\u001b[0m\u001b[1;33m.\u001b[0m\u001b[0mndim\u001b[0m \u001b[1;33m>\u001b[0m \u001b[1;36m1\u001b[0m \u001b[1;32mor\u001b[0m \u001b[0mindexer\u001b[0m\u001b[1;33m.\u001b[0m\u001b[0msize\u001b[0m \u001b[1;33m>\u001b[0m \u001b[1;36m1\u001b[0m\u001b[1;33m:\u001b[0m\u001b[1;33m\u001b[0m\u001b[1;33m\u001b[0m\u001b[0m\n",
      "\u001b[1;32mpandas\\_libs\\index.pyx\u001b[0m in \u001b[0;36mpandas._libs.index.IndexEngine.get_loc\u001b[1;34m()\u001b[0m\n",
      "\u001b[1;32mpandas\\_libs\\index.pyx\u001b[0m in \u001b[0;36mpandas._libs.index.IndexEngine.get_loc\u001b[1;34m()\u001b[0m\n",
      "\u001b[1;32mpandas\\_libs\\hashtable_class_helper.pxi\u001b[0m in \u001b[0;36mpandas._libs.hashtable.PyObjectHashTable.get_item\u001b[1;34m()\u001b[0m\n",
      "\u001b[1;32mpandas\\_libs\\hashtable_class_helper.pxi\u001b[0m in \u001b[0;36mpandas._libs.hashtable.PyObjectHashTable.get_item\u001b[1;34m()\u001b[0m\n",
      "\u001b[1;31mKeyError\u001b[0m: '2022/01/03'"
     ]
    }
   ],
   "source": [
    "df[\"2022/01/03\"]"
   ]
  },
  {
   "cell_type": "code",
   "execution_count": 4,
   "metadata": {},
   "outputs": [
    {
     "data": {
      "text/html": [
       "        <script type=\"text/javascript\">\n",
       "        window.PlotlyConfig = {MathJaxConfig: 'local'};\n",
       "        if (window.MathJax) {MathJax.Hub.Config({SVG: {font: \"STIX-Web\"}});}\n",
       "        if (typeof require !== 'undefined') {\n",
       "        require.undef(\"plotly\");\n",
       "        requirejs.config({\n",
       "            paths: {\n",
       "                'plotly': ['https://cdn.plot.ly/plotly-latest.min']\n",
       "            }\n",
       "        });\n",
       "        require(['plotly'], function(Plotly) {\n",
       "            window._Plotly = Plotly;\n",
       "        });\n",
       "        }\n",
       "        </script>\n",
       "        "
      ]
     },
     "metadata": {},
     "output_type": "display_data"
    },
    {
     "data": {
      "text/html": [
       "<div>\n",
       "        \n",
       "        \n",
       "            <div id=\"be0eba31-6465-40bd-978a-ed13d7d66aa7\" class=\"plotly-graph-div\" style=\"height:525px; width:100%;\"></div>\n",
       "            <script type=\"text/javascript\">\n",
       "                require([\"plotly\"], function(Plotly) {\n",
       "                    window.PLOTLYENV=window.PLOTLYENV || {};\n",
       "                    \n",
       "                if (document.getElementById(\"be0eba31-6465-40bd-978a-ed13d7d66aa7\")) {\n",
       "                    Plotly.newPlot(\n",
       "                        'be0eba31-6465-40bd-978a-ed13d7d66aa7',\n",
       "                        [{\"type\": \"surface\", \"x\": [1, 2, 3, 6, 12, 24, 36, 60, 84, 120, 240, 360], \"y\": [0, 1, 2, 3, 4, 5, 6, 7, 8, 9, 10, 11, 12, 13, 14, 15, 16, 17, 18, 19, 20, 21, 22, 23, 24, 25, 26, 27, 28, 29, 30, 31, 32, 33, 34, 35, 36, 37, 38, 39, 40, 41, 42, 43, 44, 45, 46, 47, 48, 49, 50, 51, 52, 53, 54, 55, 56, 57, 58, 59, 60, 61, 62, 63, 64, 65, 66, 67, 68, 69, 70, 71, 72, 73, 74, 75, 76, 77, 78, 79, 80, 81, 82, 83, 84, 85, 86, 87, 88, 89, 90, 91, 92, 93, 94], \"z\": [[0.05, 0.06, 0.08, 0.22, 0.4, 0.78, 1.04, 1.37, 1.55, 1.63, 2.05, 2.01], [0.06, 0.05, 0.08, 0.22, 0.38, 0.77, 1.02, 1.37, 1.57, 1.66, 2.1, 2.07], [0.05, 0.06, 0.09, 0.22, 0.41, 0.83, 1.1, 1.43, 1.62, 1.71, 2.12, 2.09], [0.04, 0.05, 0.1, 0.23, 0.45, 0.88, 1.15, 1.47, 1.66, 1.73, 2.12, 2.09], [0.05, 0.05, 0.1, 0.24, 0.43, 0.87, 1.17, 1.5, 1.69, 1.76, 2.15, 2.11], [0.05, 0.06, 0.13, 0.28, 0.46, 0.92, 1.21, 1.53, 1.71, 1.78, 2.15, 2.11], [0.04, 0.05, 0.11, 0.28, 0.46, 0.9, 1.22, 1.51, 1.69, 1.75, 2.13, 2.08], [0.04, 0.06, 0.12, 0.27, 0.48, 0.92, 1.21, 1.5, 1.67, 1.74, 2.13, 2.08], [0.05, 0.05, 0.12, 0.28, 0.47, 0.91, 1.18, 1.47, 1.64, 1.7, 2.1, 2.05], [0.05, 0.05, 0.13, 0.3, 0.51, 0.99, 1.26, 1.55, 1.72, 1.78, 2.18, 2.12], [0.05, 0.06, 0.16, 0.37, 0.58, 1.06, 1.35, 1.65, 1.82, 1.87, 2.24, 2.18], [0.05, 0.06, 0.17, 0.36, 0.57, 1.04, 1.33, 1.62, 1.78, 1.83, 2.2, 2.14], [0.05, 0.09, 0.17, 0.36, 0.6, 1.08, 1.34, 1.62, 1.77, 1.83, 2.19, 2.14], [0.05, 0.08, 0.17, 0.35, 0.58, 1.01, 1.28, 1.54, 1.7, 1.75, 2.13, 2.07], [0.05, 0.09, 0.19, 0.39, 0.58, 0.99, 1.25, 1.53, 1.69, 1.75, 2.15, 2.1], [0.05, 0.09, 0.19, 0.39, 0.65, 1.02, 1.28, 1.56, 1.73, 1.78, 2.18, 2.12], [0.06, 0.11, 0.19, 0.4, 0.7, 1.13, 1.39, 1.66, 1.81, 1.85, 2.22, 2.16], [0.04, 0.14, 0.2, 0.43, 0.75, 1.18, 1.43, 1.66, 1.78, 1.81, 2.17, 2.09], [0.04, 0.1, 0.19, 0.43, 0.75, 1.15, 1.38, 1.61, 1.74, 1.78, 2.14, 2.07], [0.03, 0.13, 0.22, 0.49, 0.78, 1.18, 1.39, 1.62, 1.75, 1.79, 2.17, 2.11], [0.04, 0.1, 0.19, 0.48, 0.78, 1.18, 1.39, 1.63, 1.76, 1.81, 2.19, 2.12], [0.04, 0.1, 0.19, 0.45, 0.76, 1.16, 1.38, 1.6, 1.74, 1.78, 2.17, 2.11], [0.03, 0.15, 0.2, 0.48, 0.78, 1.19, 1.42, 1.66, 1.78, 1.82, 2.2, 2.14], [0.05, 0.12, 0.23, 0.56, 0.89, 1.31, 1.55, 1.78, 1.9, 1.93, 2.29, 2.23], [0.03, 0.14, 0.27, 0.58, 0.88, 1.3, 1.54, 1.76, 1.88, 1.92, 2.28, 2.22], [0.03, 0.14, 0.25, 0.59, 0.91, 1.35, 1.59, 1.81, 1.93, 1.96, 2.31, 2.25], [0.04, 0.15, 0.26, 0.57, 0.91, 1.36, 1.61, 1.82, 1.92, 1.94, 2.31, 2.25], [0.05, 0.31, 0.4, 0.74, 1.14, 1.61, 1.82, 1.96, 2.03, 2.03, 2.37, 2.3], [0.03, 0.22, 0.36, 0.71, 1.07, 1.5, 1.71, 1.84, 1.92, 1.92, 2.3, 2.24], [0.03, 0.25, 0.43, 0.76, 1.13, 1.58, 1.8, 1.9, 1.98, 1.98, 2.35, 2.29], [0.02, 0.19, 0.4, 0.72, 1.11, 1.58, 1.8, 1.94, 2.03, 2.05, 2.42, 2.37], [0.03, 0.17, 0.38, 0.67, 1.09, 1.52, 1.75, 1.9, 2.0, 2.03, 2.39, 2.34], [0.06, 0.23, 0.36, 0.65, 1.05, 1.49, 1.7, 1.85, 1.94, 1.97, 2.35, 2.31], [0.03, 0.19, 0.35, 0.65, 1.03, 1.47, 1.68, 1.82, 1.9, 1.92, 2.3, 2.24], [0.03, 0.2, 0.37, 0.73, 1.17, 1.56, 1.74, 1.85, 1.93, 1.94, 2.31, 2.24], [0.02, 0.2, 0.34, 0.74, 1.16, 1.58, 1.78, 1.89, 1.98, 1.99, 2.36, 2.29], [0.05, 0.18, 0.32, 0.65, 1.08, 1.54, 1.73, 1.84, 1.94, 1.96, 2.36, 2.28], [0.03, 0.2, 0.33, 0.71, 1.13, 1.55, 1.76, 1.86, 1.96, 1.97, 2.37, 2.29], [0.06, 0.2, 0.35, 0.69, 1.01, 1.44, 1.62, 1.71, 1.81, 1.83, 2.25, 2.17], [0.11, 0.21, 0.32, 0.6, 0.91, 1.31, 1.47, 1.56, 1.67, 1.72, 2.19, 2.11], [0.13, 0.24, 0.34, 0.68, 1.06, 1.5, 1.67, 1.74, 1.83, 1.86, 2.32, 2.24], [0.19, 0.25, 0.38, 0.69, 1.08, 1.53, 1.69, 1.74, 1.82, 1.86, 2.32, 2.24], [0.15, 0.21, 0.34, 0.69, 1.05, 1.5, 1.62, 1.65, 1.7, 1.74, 2.23, 2.16], [0.17, 0.23, 0.38, 0.75, 1.07, 1.55, 1.68, 1.71, 1.77, 1.78, 2.29, 2.19], [0.16, 0.24, 0.36, 0.72, 1.12, 1.63, 1.78, 1.8, 1.85, 1.86, 2.34, 2.24], [0.18, 0.26, 0.38, 0.75, 1.15, 1.68, 1.83, 1.87, 1.92, 1.94, 2.38, 2.29], [0.19, 0.28, 0.39, 0.75, 1.19, 1.72, 1.88, 1.92, 1.98, 1.98, 2.45, 2.38], [0.17, 0.28, 0.4, 0.78, 1.22, 1.75, 1.91, 1.96, 2.01, 2.0, 2.45, 2.36], [0.23, 0.32, 0.45, 0.86, 1.28, 1.87, 2.04, 2.1, 2.16, 2.14, 2.56, 2.47], [0.22, 0.31, 0.46, 0.86, 1.28, 1.85, 2.04, 2.1, 2.16, 2.15, 2.57, 2.49], [0.24, 0.3, 0.44, 0.86, 1.35, 1.95, 2.14, 2.18, 2.22, 2.19, 2.56, 2.46], [0.2, 0.3, 0.4, 0.81, 1.3, 1.94, 2.14, 2.17, 2.22, 2.2, 2.6, 2.5], [0.19, 0.28, 0.42, 0.83, 1.29, 1.97, 2.15, 2.14, 2.17, 2.14, 2.53, 2.42], [0.22, 0.33, 0.54, 0.95, 1.4, 2.14, 2.34, 2.33, 2.36, 2.32, 2.67, 2.55], [0.2, 0.3, 0.51, 0.96, 1.59, 2.18, 2.38, 2.39, 2.42, 2.38, 2.71, 2.6], [0.15, 0.27, 0.5, 0.93, 1.52, 2.13, 2.32, 2.34, 2.37, 2.32, 2.65, 2.52], [0.16, 0.31, 0.52, 0.96, 1.55, 2.13, 2.35, 2.37, 2.39, 2.34, 2.63, 2.51], [0.17, 0.32, 0.55, 1.01, 1.67, 2.3, 2.51, 2.55, 2.56, 2.48, 2.74, 2.6], [0.19, 0.36, 0.59, 1.08, 1.69, 2.35, 2.55, 2.54, 2.55, 2.46, 2.72, 2.57], [0.18, 0.34, 0.55, 1.06, 1.67, 2.35, 2.54, 2.49, 2.5, 2.41, 2.68, 2.53], [0.16, 0.33, 0.55, 1.04, 1.64, 2.31, 2.49, 2.44, 2.43, 2.35, 2.63, 2.48], [0.17, 0.35, 0.52, 1.06, 1.63, 2.28, 2.45, 2.42, 2.4, 2.32, 2.59, 2.44], [0.15, 0.37, 0.53, 1.09, 1.72, 2.44, 2.61, 2.55, 2.5, 2.39, 2.6, 2.44], [0.18, 0.42, 0.66, 1.14, 1.72, 2.43, 2.61, 2.56, 2.52, 2.42, 2.64, 2.48], [0.18, 0.42, 0.65, 1.13, 1.77, 2.51, 2.69, 2.69, 2.65, 2.54, 2.74, 2.57], [0.21, 0.44, 0.67, 1.15, 1.79, 2.5, 2.67, 2.7, 2.69, 2.61, 2.81, 2.63], [0.21, 0.5, 0.68, 1.15, 1.78, 2.47, 2.66, 2.7, 2.73, 2.66, 2.87, 2.69], [0.2, 0.49, 0.7, 1.19, 1.81, 2.53, 2.73, 2.76, 2.79, 2.72, 2.94, 2.76], [0.22, 0.54, 0.77, 1.23, 1.85, 2.5, 2.73, 2.79, 2.84, 2.79, 3.02, 2.84], [0.21, 0.52, 0.74, 1.2, 1.77, 2.39, 2.58, 2.66, 2.73, 2.72, 2.99, 2.82], [0.26, 0.52, 0.75, 1.2, 1.78, 2.37, 2.57, 2.66, 2.71, 2.7, 2.97, 2.81], [0.37, 0.57, 0.79, 1.25, 1.84, 2.47, 2.67, 2.79, 2.84, 2.83, 3.09, 2.92], [0.38, 0.6, 0.81, 1.27, 1.84, 2.46, 2.68, 2.79, 2.85, 2.85, 3.12, 2.95], [0.37, 0.58, 0.81, 1.28, 1.94, 2.61, 2.81, 2.91, 2.95, 2.93, 3.19, 3.01], [0.35, 0.56, 0.82, 1.29, 1.93, 2.6, 2.79, 2.87, 2.88, 2.85, 3.08, 2.9], [0.5, 0.65, 0.83, 1.32, 2.01, 2.68, 2.87, 2.96, 2.96, 2.9, 3.12, 2.94], [0.46, 0.64, 0.83, 1.34, 2.06, 2.72, 2.88, 2.94, 2.95, 2.9, 3.14, 2.95], [0.4, 0.61, 0.91, 1.42, 2.03, 2.63, 2.79, 2.84, 2.85, 2.81, 3.06, 2.88], [0.38, 0.61, 0.83, 1.4, 1.99, 2.54, 2.72, 2.79, 2.8, 2.77, 3.03, 2.86], [0.37, 0.63, 0.82, 1.39, 1.97, 2.58, 2.75, 2.81, 2.84, 2.82, 3.08, 2.91], [0.37, 0.71, 0.82, 1.38, 2.04, 2.63, 2.8, 2.86, 2.88, 2.85, 3.1, 2.92], [0.37, 0.73, 0.85, 1.41, 2.1, 2.7, 2.87, 2.92, 2.94, 2.89, 3.14, 2.96], [0.41, 0.71, 0.9, 1.49, 2.1, 2.73, 2.93, 3.01, 3.04, 2.99, 3.26, 3.07], [0.48, 0.77, 0.91, 1.45, 2.16, 2.78, 2.95, 3.01, 3.03, 2.97, 3.21, 3.03], [0.49, 0.74, 0.89, 1.44, 2.07, 2.66, 2.85, 2.93, 2.97, 2.93, 3.21, 3.01], [0.49, 0.71, 0.85, 1.37, 2.08, 2.71, 2.91, 3.01, 3.07, 3.05, 3.35, 3.15], [0.48, 0.72, 0.85, 1.41, 2.08, 2.72, 2.94, 3.06, 3.13, 3.12, 3.43, 3.23], [0.51, 0.73, 0.92, 1.43, 1.99, 2.61, 2.81, 2.95, 3.04, 3.05, 3.38, 3.19], [0.57, 0.75, 0.89, 1.44, 2.01, 2.62, 2.81, 2.91, 2.99, 2.99, 3.31, 3.12], [0.59, 0.77, 0.91, 1.43, 1.99, 2.66, 2.81, 2.89, 2.94, 2.91, 3.25, 3.05], [0.61, 0.77, 0.96, 1.44, 1.96, 2.56, 2.73, 2.81, 2.86, 2.84, 3.22, 3.0], [0.67, 0.79, 1.03, 1.47, 2.04, 2.61, 2.79, 2.89, 2.95, 2.93, 3.32, 3.1], [0.64, 0.85, 1.07, 1.54, 2.07, 2.58, 2.75, 2.83, 2.89, 2.88, 3.3, 3.09], [0.61, 0.85, 1.06, 1.57, 2.16, 2.71, 2.89, 2.96, 3.0, 2.98, 3.36, 3.17], [0.56, 0.85, 1.03, 1.56, 2.16, 2.68, 2.84, 2.89, 2.91, 2.89, 3.24, 3.07]]}],\n",
       "                        {\"scene\": {\"xaxis\": {\"title\": {\"text\": \"Tenor\"}}, \"yaxis\": {\"title\": {\"text\": \"Date\"}}, \"zaxis\": {\"title\": {\"text\": \"Rate (%)\"}}}, \"template\": {\"data\": {\"bar\": [{\"error_x\": {\"color\": \"#2a3f5f\"}, \"error_y\": {\"color\": \"#2a3f5f\"}, \"marker\": {\"line\": {\"color\": \"#E5ECF6\", \"width\": 0.5}}, \"type\": \"bar\"}], \"barpolar\": [{\"marker\": {\"line\": {\"color\": \"#E5ECF6\", \"width\": 0.5}}, \"type\": \"barpolar\"}], \"carpet\": [{\"aaxis\": {\"endlinecolor\": \"#2a3f5f\", \"gridcolor\": \"white\", \"linecolor\": \"white\", \"minorgridcolor\": \"white\", \"startlinecolor\": \"#2a3f5f\"}, \"baxis\": {\"endlinecolor\": \"#2a3f5f\", \"gridcolor\": \"white\", \"linecolor\": \"white\", \"minorgridcolor\": \"white\", \"startlinecolor\": \"#2a3f5f\"}, \"type\": \"carpet\"}], \"choropleth\": [{\"colorbar\": {\"outlinewidth\": 0, \"ticks\": \"\"}, \"type\": \"choropleth\"}], \"contour\": [{\"colorbar\": {\"outlinewidth\": 0, \"ticks\": \"\"}, \"colorscale\": [[0.0, \"#0d0887\"], [0.1111111111111111, \"#46039f\"], [0.2222222222222222, \"#7201a8\"], [0.3333333333333333, \"#9c179e\"], [0.4444444444444444, \"#bd3786\"], [0.5555555555555556, \"#d8576b\"], [0.6666666666666666, \"#ed7953\"], [0.7777777777777778, \"#fb9f3a\"], [0.8888888888888888, \"#fdca26\"], [1.0, \"#f0f921\"]], \"type\": \"contour\"}], \"contourcarpet\": [{\"colorbar\": {\"outlinewidth\": 0, \"ticks\": \"\"}, \"type\": \"contourcarpet\"}], \"heatmap\": [{\"colorbar\": {\"outlinewidth\": 0, \"ticks\": \"\"}, \"colorscale\": [[0.0, \"#0d0887\"], [0.1111111111111111, \"#46039f\"], [0.2222222222222222, \"#7201a8\"], [0.3333333333333333, \"#9c179e\"], [0.4444444444444444, \"#bd3786\"], [0.5555555555555556, \"#d8576b\"], [0.6666666666666666, \"#ed7953\"], [0.7777777777777778, \"#fb9f3a\"], [0.8888888888888888, \"#fdca26\"], [1.0, \"#f0f921\"]], \"type\": \"heatmap\"}], \"heatmapgl\": [{\"colorbar\": {\"outlinewidth\": 0, \"ticks\": \"\"}, \"colorscale\": [[0.0, \"#0d0887\"], [0.1111111111111111, \"#46039f\"], [0.2222222222222222, \"#7201a8\"], [0.3333333333333333, \"#9c179e\"], [0.4444444444444444, \"#bd3786\"], [0.5555555555555556, \"#d8576b\"], [0.6666666666666666, \"#ed7953\"], [0.7777777777777778, \"#fb9f3a\"], [0.8888888888888888, \"#fdca26\"], [1.0, \"#f0f921\"]], \"type\": \"heatmapgl\"}], \"histogram\": [{\"marker\": {\"colorbar\": {\"outlinewidth\": 0, \"ticks\": \"\"}}, \"type\": \"histogram\"}], \"histogram2d\": [{\"colorbar\": {\"outlinewidth\": 0, \"ticks\": \"\"}, \"colorscale\": [[0.0, \"#0d0887\"], [0.1111111111111111, \"#46039f\"], [0.2222222222222222, \"#7201a8\"], [0.3333333333333333, \"#9c179e\"], [0.4444444444444444, \"#bd3786\"], [0.5555555555555556, \"#d8576b\"], [0.6666666666666666, \"#ed7953\"], [0.7777777777777778, \"#fb9f3a\"], [0.8888888888888888, \"#fdca26\"], [1.0, \"#f0f921\"]], \"type\": \"histogram2d\"}], \"histogram2dcontour\": [{\"colorbar\": {\"outlinewidth\": 0, \"ticks\": \"\"}, \"colorscale\": [[0.0, \"#0d0887\"], [0.1111111111111111, \"#46039f\"], [0.2222222222222222, \"#7201a8\"], [0.3333333333333333, \"#9c179e\"], [0.4444444444444444, \"#bd3786\"], [0.5555555555555556, \"#d8576b\"], [0.6666666666666666, \"#ed7953\"], [0.7777777777777778, \"#fb9f3a\"], [0.8888888888888888, \"#fdca26\"], [1.0, \"#f0f921\"]], \"type\": \"histogram2dcontour\"}], \"mesh3d\": [{\"colorbar\": {\"outlinewidth\": 0, \"ticks\": \"\"}, \"type\": \"mesh3d\"}], \"parcoords\": [{\"line\": {\"colorbar\": {\"outlinewidth\": 0, \"ticks\": \"\"}}, \"type\": \"parcoords\"}], \"scatter\": [{\"marker\": {\"colorbar\": {\"outlinewidth\": 0, \"ticks\": \"\"}}, \"type\": \"scatter\"}], \"scatter3d\": [{\"line\": {\"colorbar\": {\"outlinewidth\": 0, \"ticks\": \"\"}}, \"marker\": {\"colorbar\": {\"outlinewidth\": 0, \"ticks\": \"\"}}, \"type\": \"scatter3d\"}], \"scattercarpet\": [{\"marker\": {\"colorbar\": {\"outlinewidth\": 0, \"ticks\": \"\"}}, \"type\": \"scattercarpet\"}], \"scattergeo\": [{\"marker\": {\"colorbar\": {\"outlinewidth\": 0, \"ticks\": \"\"}}, \"type\": \"scattergeo\"}], \"scattergl\": [{\"marker\": {\"colorbar\": {\"outlinewidth\": 0, \"ticks\": \"\"}}, \"type\": \"scattergl\"}], \"scattermapbox\": [{\"marker\": {\"colorbar\": {\"outlinewidth\": 0, \"ticks\": \"\"}}, \"type\": \"scattermapbox\"}], \"scatterpolar\": [{\"marker\": {\"colorbar\": {\"outlinewidth\": 0, \"ticks\": \"\"}}, \"type\": \"scatterpolar\"}], \"scatterpolargl\": [{\"marker\": {\"colorbar\": {\"outlinewidth\": 0, \"ticks\": \"\"}}, \"type\": \"scatterpolargl\"}], \"scatterternary\": [{\"marker\": {\"colorbar\": {\"outlinewidth\": 0, \"ticks\": \"\"}}, \"type\": \"scatterternary\"}], \"surface\": [{\"colorbar\": {\"outlinewidth\": 0, \"ticks\": \"\"}, \"colorscale\": [[0.0, \"#0d0887\"], [0.1111111111111111, \"#46039f\"], [0.2222222222222222, \"#7201a8\"], [0.3333333333333333, \"#9c179e\"], [0.4444444444444444, \"#bd3786\"], [0.5555555555555556, \"#d8576b\"], [0.6666666666666666, \"#ed7953\"], [0.7777777777777778, \"#fb9f3a\"], [0.8888888888888888, \"#fdca26\"], [1.0, \"#f0f921\"]], \"type\": \"surface\"}], \"table\": [{\"cells\": {\"fill\": {\"color\": \"#EBF0F8\"}, \"line\": {\"color\": \"white\"}}, \"header\": {\"fill\": {\"color\": \"#C8D4E3\"}, \"line\": {\"color\": \"white\"}}, \"type\": \"table\"}]}, \"layout\": {\"annotationdefaults\": {\"arrowcolor\": \"#2a3f5f\", \"arrowhead\": 0, \"arrowwidth\": 1}, \"colorscale\": {\"diverging\": [[0, \"#8e0152\"], [0.1, \"#c51b7d\"], [0.2, \"#de77ae\"], [0.3, \"#f1b6da\"], [0.4, \"#fde0ef\"], [0.5, \"#f7f7f7\"], [0.6, \"#e6f5d0\"], [0.7, \"#b8e186\"], [0.8, \"#7fbc41\"], [0.9, \"#4d9221\"], [1, \"#276419\"]], \"sequential\": [[0.0, \"#0d0887\"], [0.1111111111111111, \"#46039f\"], [0.2222222222222222, \"#7201a8\"], [0.3333333333333333, \"#9c179e\"], [0.4444444444444444, \"#bd3786\"], [0.5555555555555556, \"#d8576b\"], [0.6666666666666666, \"#ed7953\"], [0.7777777777777778, \"#fb9f3a\"], [0.8888888888888888, \"#fdca26\"], [1.0, \"#f0f921\"]], \"sequentialminus\": [[0.0, \"#0d0887\"], [0.1111111111111111, \"#46039f\"], [0.2222222222222222, \"#7201a8\"], [0.3333333333333333, \"#9c179e\"], [0.4444444444444444, \"#bd3786\"], [0.5555555555555556, \"#d8576b\"], [0.6666666666666666, \"#ed7953\"], [0.7777777777777778, \"#fb9f3a\"], [0.8888888888888888, \"#fdca26\"], [1.0, \"#f0f921\"]]}, \"colorway\": [\"#636efa\", \"#EF553B\", \"#00cc96\", \"#ab63fa\", \"#FFA15A\", \"#19d3f3\", \"#FF6692\", \"#B6E880\", \"#FF97FF\", \"#FECB52\"], \"font\": {\"color\": \"#2a3f5f\"}, \"geo\": {\"bgcolor\": \"white\", \"lakecolor\": \"white\", \"landcolor\": \"#E5ECF6\", \"showlakes\": true, \"showland\": true, \"subunitcolor\": \"white\"}, \"hoverlabel\": {\"align\": \"left\"}, \"hovermode\": \"closest\", \"mapbox\": {\"style\": \"light\"}, \"paper_bgcolor\": \"white\", \"plot_bgcolor\": \"#E5ECF6\", \"polar\": {\"angularaxis\": {\"gridcolor\": \"white\", \"linecolor\": \"white\", \"ticks\": \"\"}, \"bgcolor\": \"#E5ECF6\", \"radialaxis\": {\"gridcolor\": \"white\", \"linecolor\": \"white\", \"ticks\": \"\"}}, \"scene\": {\"xaxis\": {\"backgroundcolor\": \"#E5ECF6\", \"gridcolor\": \"white\", \"gridwidth\": 2, \"linecolor\": \"white\", \"showbackground\": true, \"ticks\": \"\", \"zerolinecolor\": \"white\"}, \"yaxis\": {\"backgroundcolor\": \"#E5ECF6\", \"gridcolor\": \"white\", \"gridwidth\": 2, \"linecolor\": \"white\", \"showbackground\": true, \"ticks\": \"\", \"zerolinecolor\": \"white\"}, \"zaxis\": {\"backgroundcolor\": \"#E5ECF6\", \"gridcolor\": \"white\", \"gridwidth\": 2, \"linecolor\": \"white\", \"showbackground\": true, \"ticks\": \"\", \"zerolinecolor\": \"white\"}}, \"shapedefaults\": {\"line\": {\"color\": \"#2a3f5f\"}}, \"ternary\": {\"aaxis\": {\"gridcolor\": \"white\", \"linecolor\": \"white\", \"ticks\": \"\"}, \"baxis\": {\"gridcolor\": \"white\", \"linecolor\": \"white\", \"ticks\": \"\"}, \"bgcolor\": \"#E5ECF6\", \"caxis\": {\"gridcolor\": \"white\", \"linecolor\": \"white\", \"ticks\": \"\"}}, \"title\": {\"x\": 0.05}, \"xaxis\": {\"automargin\": true, \"gridcolor\": \"white\", \"linecolor\": \"white\", \"ticks\": \"\", \"zerolinecolor\": \"white\", \"zerolinewidth\": 2}, \"yaxis\": {\"automargin\": true, \"gridcolor\": \"white\", \"linecolor\": \"white\", \"ticks\": \"\", \"zerolinecolor\": \"white\", \"zerolinewidth\": 2}}}, \"title\": {\"text\": \"Yield Surface 2022\"}},\n",
       "                        {\"responsive\": true}\n",
       "                    ).then(function(){\n",
       "                            \n",
       "var gd = document.getElementById('be0eba31-6465-40bd-978a-ed13d7d66aa7');\n",
       "var x = new MutationObserver(function (mutations, observer) {{\n",
       "        var display = window.getComputedStyle(gd).display;\n",
       "        if (!display || display === 'none') {{\n",
       "            console.log([gd, 'removed!']);\n",
       "            Plotly.purge(gd);\n",
       "            observer.disconnect();\n",
       "        }}\n",
       "}});\n",
       "\n",
       "// Listen for the removal of the full notebook cells\n",
       "var notebookContainer = gd.closest('#notebook-container');\n",
       "if (notebookContainer) {{\n",
       "    x.observe(notebookContainer, {childList: true});\n",
       "}}\n",
       "\n",
       "// Listen for the clearing of the current output cell\n",
       "var outputEl = gd.closest('.output');\n",
       "if (outputEl) {{\n",
       "    x.observe(outputEl, {childList: true});\n",
       "}}\n",
       "\n",
       "                        })\n",
       "                };\n",
       "                });\n",
       "            </script>\n",
       "        </div>"
      ]
     },
     "metadata": {},
     "output_type": "display_data"
    }
   ],
   "source": [
    "# TREASURY SURFACE\n",
    "x = [int(x[1:]) for x in df.columns]\n",
    "y = np.arange(df.shape[0])\n",
    "traces = [go.Surface(z=df.values, x=x, y=y)]\n",
    "\n",
    "layout = go.Layout(\n",
    "    title = f\"Yield Surface {year}\",\n",
    "    scene = dict(\n",
    "        xaxis_title = \"Tenor\",\n",
    "        yaxis_title = \"Date\",\n",
    "        zaxis_title = \"Rate (%)\"\n",
    "    )\n",
    ")\n",
    "\n",
    "fig = go.Figure(data=traces, layout = layout)\n",
    "\n",
    "fig.show()"
   ]
  },
  {
   "cell_type": "code",
   "execution_count": null,
   "metadata": {},
   "outputs": [],
   "source": []
  }
 ],
 "metadata": {
  "kernelspec": {
   "display_name": "Python 3",
   "language": "python",
   "name": "python3"
  },
  "language_info": {
   "codemirror_mode": {
    "name": "ipython",
    "version": 3
   },
   "file_extension": ".py",
   "mimetype": "text/x-python",
   "name": "python",
   "nbconvert_exporter": "python",
   "pygments_lexer": "ipython3",
   "version": "3.7.4"
  }
 },
 "nbformat": 4,
 "nbformat_minor": 2
}

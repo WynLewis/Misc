{
 "cells": [
  {
   "cell_type": "code",
   "execution_count": 1,
   "metadata": {},
   "outputs": [],
   "source": [
    "import numpy as np\n",
    "from scipy.stats import norm\n",
    "import matplotlib.pyplot as plt\n",
    "from time import time\n",
    "import mpmath as mp\n",
    "from numba import njit"
   ]
  },
  {
   "cell_type": "code",
   "execution_count": 2,
   "metadata": {},
   "outputs": [],
   "source": [
    "class VanillaOption():\n",
    "\n",
    "    def __init__(self, r, S, k, t):\n",
    "        self.r = r\n",
    "        self.S = S\n",
    "        self.k = k\n",
    "        self.t = t\n",
    "        \n",
    "        \n",
    "class VanillaCall(VanillaOption):\n",
    "    @property\n",
    "    def price(self):\n",
    "        return np.mean(np.maximum(self.S[:,-1] - self.k, 0)*np.exp(-self.r*self.t))\n",
    "    \n",
    "    \n",
    "class VanillaPut(VanillaOption):\n",
    "    @property\n",
    "    def price(self):\n",
    "        return np.mean(np.maximum(strike - equity[:,-1], 0)*np.exp(-discount))"
   ]
  },
  {
   "cell_type": "code",
   "execution_count": 3,
   "metadata": {},
   "outputs": [],
   "source": [
    "class BSEuroOption():\n",
    "\n",
    "    def __init__(self, r, q, S, sigma, k, t):\n",
    "        self.r = r\n",
    "        self.q = q\n",
    "        self.S = S\n",
    "        self.sigma = sigma\n",
    "        self.k = k\n",
    "        self.t = t\n",
    "        self.d1 = ((np.log(self.S / self.k) + (self.r- self.q + np.square(self.sigma) / 2) * self.t)) / (sigma * np.sqrt(self.t))\n",
    "        self.d2 = self.d1 - self.sigma * np.sqrt(self.t)\n",
    "\n",
    "\n",
    "class BSCall(BSEuroOption):\n",
    "\n",
    "    @property\n",
    "    def price(self):\n",
    "        # S * N(d1) - K * N(d2)\n",
    "        return self.S * np.exp(-self.q * self.t) * norm.cdf(self.d1) - self.k * np.exp(-self.r * self.t) * norm.cdf(self.d2)\n",
    "\n",
    "    @property \n",
    "    def delta(self):\n",
    "        return np.exp(- self.q * self.t) * norm.cdf(self.d1) \n",
    "\n",
    "    @property \n",
    "    def gamma(self):\n",
    "        return np.exp(- self.q * self.t) * norm.pdf(self.d1) / (self.sigma * self.S * np.sqrt(self.t)) \n",
    "\n",
    "    @property \n",
    "    def vega(self):\n",
    "        return np.exp(- self.q * self.t) * norm.pdf(self.d1) * self.S * np.sqrt(self.t)\n",
    "    \n",
    "    \n",
    "class BSPut(BSEuroOption):\n",
    "\n",
    "\n",
    "    @property\n",
    "    def price(self):\n",
    "        return self.k * np.exp(-self.r * self.t) * norm.cdf(-self.d2) - self.S * np.exp(-self.q * self.t) * norm.cdf(-self.d1) \n",
    "\n",
    "    @property \n",
    "    def delta(self):\n",
    "        return -1 * np.exp(- self.q * self.t) * norm.cdf(-self.d1)\n",
    "\n",
    "    @property \n",
    "    def gamma(self):\n",
    "        return np.exp(- self.q * self.t) * norm.pdf(self.d1) / (self.sigma * self.S * np.sqrt(self.t)) \n",
    "\n",
    "    @property \n",
    "    def vega(self):\n",
    "        return np.exp(- self.q * self.t) * self.S * np.sqrt(self.t) *  norm.pdf(self.d1) / 100\n",
    "        #return np.exp(- self.q * self.t) * np.sqrt(self.t) *  norm.pdf(self.d1) / 100"
   ]
  },
  {
   "cell_type": "code",
   "execution_count": 4,
   "metadata": {},
   "outputs": [],
   "source": [
    "def simulate_GBM(sims, T, dt, S0, r, q, sigma):\n",
    "    m = int(1/(T * dt))\n",
    "    equity = np.zeros((sims, m+1))\n",
    "    X = np.random.randn(sims, m)\n",
    "    equity[:, 1:] = (r-q-sigma*sigma / 2) * dt + sigma * np.sqrt(dt) * X\n",
    "    return S0 * np.exp(equity.cumsum(axis=1))\n",
    "    "
   ]
  },
  {
   "cell_type": "code",
   "execution_count": 5,
   "metadata": {},
   "outputs": [],
   "source": [
    "def simulate_VG(sims, T, dt, S0, r, q, sigma, nu, theta):\n",
    "    m = int(1/(T * dt))\n",
    "    omega = np.log(1 - theta*nu - sigma*sigma*nu/2)/nu\n",
    "    equity = np.zeros((sims, m+1))\n",
    "    drift = r - q + omega\n",
    "    g = np.random.gamma(dt/nu, nu,(sims,m))\n",
    "    X = theta*g + sigma*np.sqrt(g)*np.random.randn(sims, m)\n",
    "    equity[:, 1:] = drift * dt + X\n",
    "    return S0 * np.exp(equity.cumsum(axis=1))    "
   ]
  },
  {
   "cell_type": "code",
   "execution_count": 6,
   "metadata": {},
   "outputs": [],
   "source": [
    "def simulate_VGSA(sims, T, dt, S0, r, q, sigma, nu, theta, kappa, eta, lam):\n",
    "    m = int(1/(T * dt))\n",
    "    omega = np.zeros((sims, m+1))\n",
    "    iu = (1/nu) * np.log(1 - theta*nu - sigma*sigma*nu/2)\n",
    "    gamma = np.sqrt(kappa*kappa - 2*lam*lam*iu)\n",
    "    equity = np.zeros((sims, m+1))\n",
    "    drift = r - q\n",
    "    g = np.random.gamma(dt/nu, nu,(sims,m))\n",
    "    X = VGSA_TimeChange(sims, T, dt, S0, r, q, sigma, nu, theta, kappa, eta, lam)\n",
    "    jh = np.array([(ii)*dt for ii in range(m+1)], dtype=float)\n",
    "    omega = np.log(phi(jh, kappa, eta, lam, gamma, iu, nu))\n",
    "    domega = - np.diff(omega, prepend=0.0)                 \n",
    "    equity[:, 1:] = drift * dt + domega[:-1].T + X[:,:-1]\n",
    "    return S0 * np.exp(equity.cumsum(axis=1))  \n",
    "\n",
    "def A(t, kappa, eta, lam, gamma, iu):\n",
    "    num = np.exp(kappa*kappa*eta*t/(lam*lam))\n",
    "    par = np.cosh(gamma*t/2) + (kappa/gamma)*np.sinh(gamma*t/2)\n",
    "    ex = 2*kappa*eta/(lam*lam)\n",
    "    return num/(par**ex)\n",
    "\n",
    "def B(t, kappa, eta, lam, gamma, iu):\n",
    "    return (2*iu) / (kappa +gamma*np.cosh(gamma*t/2)/np.sinh(gamma*t/2))\n",
    "\n",
    "def phi(t, kappa, eta, lam, gamma, iu, nu):\n",
    "    \n",
    "    return A(t, kappa, eta, lam, gamma, iu)*np.exp(B(t, kappa, eta, lam, gamma, iu)/nu)\n",
    "\n",
    "def VGSA_TimeChange(sims, T, dt, S0, r, q, sigma, nu, theta, kappa, eta, lam):\n",
    "    m = int(1/(T * dt))\n",
    "    y = np.zeros((sims, m+1))\n",
    "    X = np.zeros((sims, m+1))\n",
    "    y[:,0] = 1/nu\n",
    "    Z1 = np.random.randn(sims, m)\n",
    "    Z2 = np.random.randn(sims, m)\n",
    "    for n in range(m):\n",
    "\n",
    "        y[:,n+1] = (y[:,n] + kappa*(eta - y[:,n])*dt + lam*np.sqrt(y[:,n])*np.sqrt(dt)*Z1[:,n]\n",
    "                   + (lam*lam)/4 * dt * (Z1[:,n]**2 - 1))\n",
    "        t_tilda = dt/2 * (y[:,n+1] +y[:,n])\n",
    "        g = np.random.gamma(t_tilda/nu, nu,sims)\n",
    "        X[:,n] = theta*g + sigma*np.sqrt(g)*Z2[:,n]     \n",
    "    return X"
   ]
  },
  {
   "cell_type": "code",
   "execution_count": 7,
   "metadata": {},
   "outputs": [],
   "source": [
    "import pyodbc"
   ]
  },
  {
   "cell_type": "code",
   "execution_count": 8,
   "metadata": {},
   "outputs": [],
   "source": [
    "EffectiveDate = \"'2021-12-31'\"\n",
    "connstr = 'DRIVER={ODBC Driver 17 for SQL Server};SERVER=actuarialdata.nwie.net,1021;DATABASE=NFActCorp;Trusted_Connection=yes;'\n",
    "query = \"EXEC [EconData].[Curve_NominalRates_Get] \" + EffectiveDate\n",
    "query2 = \"Exec NFActCorp.QRM.SHARED_VOL_SURFACE_PIVOT_GET 'Master',\" + EffectiveDate + \", 'SPX'\"\n",
    "query3 = \"Exec NFActCorp.QRM.BBG_Closes_Scalar_Get 'SPX INDEX', 'EQY_DVD_YLD_12M', \" + EffectiveDate\n",
    "query4 = \"select [Input_EquityVolatility] \"\n",
    "query4 += \"FROM EconData.vw_VCFStateParameters \"\n",
    "query4 +=\"WHERE [FundName] = 'NVIT ID Managed Growth' \"\n",
    "query4 += \"and\t[AlgorithmVersion] = 1.0 \"\n",
    "query4 += \"and EffectiveDate = \"\n",
    "query4 += EffectiveDate\n",
    "query4 += \" order by EffectiveDate\"\n",
    "rates = []\n",
    "ivol = []\n",
    "div = []\n",
    "vol = []\n",
    "with pyodbc.connect(connstr) as cnxn:\n",
    "\n",
    "    with cnxn.cursor() as crs:\n",
    "        crs.execute(query)\n",
    "        for row in crs:\n",
    "            rates.append(row)\n",
    "    with cnxn.cursor() as crs:\n",
    "        crs.execute(query2)\n",
    "        for row in crs:\n",
    "            ivol.append(row)\n",
    "    with cnxn.cursor() as crs:\n",
    "        crs.execute(query3)\n",
    "        for row in crs:\n",
    "            div.append(row)\n",
    "    with cnxn.cursor() as crs:\n",
    "        crs.execute(query4)\n",
    "        for row in crs:\n",
    "            vol.append(row)        \n",
    "iVols_1yr = np.array(ivol[:][:][11][3:])\n",
    "rate_1yr = rates[0][4] / 100\n",
    "q = div[0][0] / 100\n",
    "v0 = vol[0][0]"
   ]
  },
  {
   "cell_type": "code",
   "execution_count": 9,
   "metadata": {},
   "outputs": [],
   "source": [
    "@njit\n",
    "def HESTON_VOL(rvs, nsim=100000, timesteps=360, maturity=1, psi=.3877, theta = 0.18*0.18, kappa = 2, V0 = .18):\n",
    "    dt = maturity / timesteps\n",
    "    V = np.zeros((nsim, timesteps+1))\n",
    "    V[:,0] = V0*V0\n",
    "    for n in range(timesteps):\n",
    "        rv = rvs[:,n]\n",
    "        V[:,n+1] = (np.maximum(V[:,n] + kappa * (theta - V[:,n]) * dt + \n",
    "                               psi * np.sqrt(np.maximum(V[:,n],0.0001)) * rv * np.sqrt(dt), 0.0001))\n",
    "    Vol = np.sqrt(V)\n",
    "    return Vol\n",
    "\n",
    "\n",
    "def simulate_GBMSA(sims, T, dt, S0, V0, r, q, psi, kappa, rho, theta):\n",
    "    m = int(1/(T * dt))\n",
    "    equity = np.zeros((sims, m+1))\n",
    "    X1 = np.random.randn(sims, m)\n",
    "    X2 = np.random.randn(sims, m)\n",
    "    X3 = rho * X1 + np.sqrt(1-rho*rho)*X2\n",
    "    vol = HESTON_VOL_njit(X1, sims, m, T, psi, theta, kappa, V0)\n",
    "    equity[:, 1:] = (r-q-vol[:,0:-1]*vol[:,0:-1] / 2) * dt + vol[:,0:-1] * np.sqrt(dt) * X3\n",
    "    return S0 * np.exp(equity.cumsum(axis=1))"
   ]
  },
  {
   "cell_type": "code",
   "execution_count": 10,
   "metadata": {},
   "outputs": [],
   "source": [
    "def EuroPricer(strike, discount, optiontype, equity):\n",
    "    if optiontype == 'C':\n",
    "        Price = np.mean(np.maximum(equity[:,-1] - strike, 0)*np.exp(-discount))\n",
    "    else:\n",
    "        Price = np.mean(np.maximum(strike - equity[:,-1], 0)*np.exp(-discount))\n",
    "    return Price"
   ]
  },
  {
   "cell_type": "code",
   "execution_count": 18,
   "metadata": {},
   "outputs": [
    {
     "ename": "SyntaxError",
     "evalue": "invalid character in identifier (<ipython-input-18-3df98ebb2000>, line 46)",
     "output_type": "error",
     "traceback": [
      "\u001b[1;36m  File \u001b[1;32m\"<ipython-input-18-3df98ebb2000>\"\u001b[1;36m, line \u001b[1;32m46\u001b[0m\n\u001b[1;33m    res = minimize(loss, self.parameters, options=self.options, bounds=self.bounds, method=’Nelder-Mead’)\u001b[0m\n\u001b[1;37m                                                                                                 ^\u001b[0m\n\u001b[1;31mSyntaxError\u001b[0m\u001b[1;31m:\u001b[0m invalid character in identifier\n"
     ]
    }
   ],
   "source": [
    "from abc import ABC, abstractmethod\n",
    "from typing import Tuple, List, Sequence, Dict, Union\n",
    "from scipy.optimize import minimize, OptimizeResult \n",
    "from scipy.optimize import Bounds\n",
    "from random import seed\n",
    "from scipy.optimize import least_squares\n",
    "\n",
    "class OptionPricingModel(ABC):\n",
    "    \"\"\"\n",
    "    Model that can be used to price Euoprean Vanilla Options.\n",
    "    \"\"\"\n",
    "    \n",
    "    def __init__(self):\n",
    "        self._parameters = None\n",
    "    \n",
    "    @property\n",
    "    def parameters(self) -> Sequence[float]:\n",
    "        \"\"\"\n",
    "        The model parameters, returned as a list of real numbers.\n",
    "        \"\"\"\n",
    "        return self._parameters\n",
    "\n",
    "    \n",
    "    @parameters.setter\n",
    "    @abstractmethod\n",
    "    def parameters(self, value: Sequence[float]):\n",
    "        \"\"\"\n",
    "        The model parameters, returned as a list of real numbers.\n",
    "        \"\"\"\n",
    "        pass\n",
    "        \n",
    "    \n",
    "    @abstractmethod\n",
    "    def simulate(self):\n",
    "        pass   \n",
    "        \n",
    "        \n",
    "    def calibrate(self, real_prices, strikes, maturities, weight: np.array=None):\n",
    "        if weight is None:\n",
    "            weight = np.ones(real_prices.shape)\n",
    "        dt = 1/360\n",
    "        sims = 10000\n",
    "        simlen = max(maturities)\n",
    "        cols = (maturities / dt + 1).astype(int)\n",
    "        loss = self.get_loss_function(real_prices, weight, strikes, maturities, sims, simlen, cols, dt)\n",
    "        res = minimize(loss, self.parameters, options=self.options, bounds=self.bounds, method=’Nelder-Mead’)\n",
    "        self.parameters = res.x\n",
    "        return res, self\n",
    "        \n",
    "    def get_loss_function(self, real_prices, weight, strikes, maturities, sims, simlen, cols, dt):    \n",
    "\n",
    "        def _loss_function(parameters):\n",
    "            np.random.seed(1234)\n",
    "            self.parameters = parameters\n",
    "            S = self.simulate(sims, simlen, dt)\n",
    "            predicted = []\n",
    "            for i in range(len(strikes)):\n",
    "                pricingOption = VanillaCall(self.r, S[:,:cols[i]], self.s0*strikes[i], maturities[i])\n",
    "                predicted.append(pricingOption.price)\n",
    "            return sum(weight*(real_prices - np.array(predicted, dtype=float))**2)\n",
    "        return _loss_function    "
   ]
  },
  {
   "cell_type": "code",
   "execution_count": 67,
   "metadata": {},
   "outputs": [],
   "source": [
    "class GBMSA(OptionPricingModel):\n",
    "    \n",
    "    def __init__(self, s0, v0, r, q, psi, kappa, rho, theta):\n",
    "        super().__init__()\n",
    "        self.r = r\n",
    "        self.q = q\n",
    "        self.s0 = s0\n",
    "        self.v0 = v0\n",
    "        self.psi = psi\n",
    "        self.kappa = kappa\n",
    "        self.rho = rho\n",
    "        self.theta = theta\n",
    "        self.bounds = ((0.10, 1.0), (0.5, 10.0), (-0.99, 0.99), (0.05, 1.0))\n",
    "        self.options = {'gtol': 1e-6, 'disp': True}\n",
    "        self.parameters = (self.psi, self.kappa, self.rho, self.theta)\n",
    "    \n",
    "    @property\n",
    "    def parameters(self) -> Sequence[float]:\n",
    "        \"\"\"\n",
    "        The model parameters, returned as a list of real numbers.\n",
    "        \"\"\"\n",
    "        return self._parameters\n",
    "    \n",
    "    @parameters.setter\n",
    "    def parameters(self, value):\n",
    "        if value is not None:\n",
    "            self.psi = value[0]\n",
    "            self.kappa = value[1]\n",
    "            self.rho = value[2]\n",
    "            self.theta = value[3]\n",
    "            self._parameters = value\n",
    "\n",
    "            \n",
    "    def HESTON_VOL(self,rvs, nsim=100000, timesteps=360, maturity=1, psi=.3877, theta = 0.18*0.18, kappa = 2, v0 = .18):\n",
    "        dt = maturity / timesteps\n",
    "        v = np.zeros((nsim, timesteps+1))\n",
    "        v[:,0] = v0*v0\n",
    "        for n in range(timesteps):\n",
    "            rv = rvs[:,n]\n",
    "            v[:,n+1] = np.maximum(v[:,n] + kappa * (theta - v[:,n]) * dt + \n",
    "                                   psi * np.sqrt(v[:,n]) * rv * np.sqrt(dt),0.01)\n",
    "                \n",
    "        vol = np.sqrt(v)\n",
    "        return vol\n",
    "\n",
    "    def simulate(self, sims, T, dt):\n",
    "        m = int(T/(1 * dt))\n",
    "        equity = np.zeros((sims, m+1))\n",
    "        X1 = np.random.randn(sims, m)\n",
    "        X2 = np.random.randn(sims, m)\n",
    "        X3 = self.rho * X1 + np.sqrt(1-self.rho*self.rho)*X2\n",
    "        vol = self.HESTON_VOL(X1, sims, m, T, self.psi, self.theta, self.kappa, self.v0)\n",
    "        equity[:, 1:] = (self.r-self.q-vol[:,0:-1]*vol[:,0:-1] / 2) * dt + vol[:,0:-1] * np.sqrt(dt) * X3\n",
    "        return self.s0 * np.exp(equity.cumsum(axis=1))"
   ]
  },
  {
   "cell_type": "code",
   "execution_count": 13,
   "metadata": {},
   "outputs": [],
   "source": [
    "class VG(OptionPricingModel):\n",
    "    \n",
    "    def __init__(self, s0, r, q, sigma, nu, theta):\n",
    "        super().__init__()\n",
    "        self.r = r\n",
    "        self.q = q\n",
    "        self.s0 = s0\n",
    "        self.sigma = sigma        \n",
    "        self.nu = nu\n",
    "        self.theta = theta\n",
    "        self.bounds = ((0.001, 10.0), (0.001, 10.0), (-10.0, 10.0))\n",
    "        self.options = {'disp': True}\n",
    "        self.parameters = (self.sigma, self.nu, self.theta)\n",
    "    \n",
    "    @property\n",
    "    def parameters(self) -> Sequence[float]:\n",
    "        \"\"\"\n",
    "        The model parameters, returned as a list of real numbers.\n",
    "        \"\"\"\n",
    "        return self._parameters\n",
    "    \n",
    "    @parameters.setter\n",
    "    def parameters(self, value):\n",
    "        if value is not None:\n",
    "            self.sigma = value[0]\n",
    "            self.nu = value[1]\n",
    "            self.theta = value[2]\n",
    "            self._parameters = value\n",
    "\n",
    "\n",
    "    def simulate(self, sims, T, dt):\n",
    "        m = int(1/(T * dt))\n",
    "        omega = np.log(1 - self.theta*self.nu - self.sigma*self.sigma*self.nu/2)/self.nu\n",
    "        equity = np.zeros((sims, m+1))\n",
    "        drift = self.r - self.q + omega\n",
    "        g = np.random.gamma(dt/self.nu, self.nu,(sims,m))\n",
    "        X = self.theta*g + self.sigma*np.sqrt(g)*np.random.randn(sims, m)\n",
    "        equity[:, 1:] = drift * dt + X\n",
    "        return self.s0 * np.exp(equity.cumsum(axis=1))   "
   ]
  },
  {
   "cell_type": "code",
   "execution_count": 14,
   "metadata": {},
   "outputs": [
    {
     "name": "stdout",
     "output_type": "stream",
     "text": [
      "[49.52 40.07 30.88 22.21 14.22  7.3   2.47  0.62  0.21  0.08  0.03]\n",
      "Elapsted time is 0.00 seconds.\n"
     ]
    }
   ],
   "source": [
    "st = time()\n",
    "r = rate_1yr\n",
    "q = q\n",
    "s0 = 100\n",
    "strikes = np.array([0.5, 0.6, 0.7, 0.8, 0.90, 1.00, 1.10, 1.2, 1.3, 1.4, 1.5])\n",
    "maturities = np.array([1, 1, 1, 1, 1, 1, 1, 1, 1, 1, 1])\n",
    "iVols = iVols_1yr\n",
    "options = []\n",
    "for i in range(len(iVols)):\n",
    "    options.append(BSCall(r, q, s0, iVols[i], s0*strikes[i], maturities[i]))\n",
    "real_prices = np.array([o.price for o in options])\n",
    "np.set_printoptions(precision=2, suppress=True)\n",
    "print(real_prices)\n",
    "print(f'Elapsted time is {time() - st:.2f} seconds.')"
   ]
  },
  {
   "cell_type": "code",
   "execution_count": 27,
   "metadata": {},
   "outputs": [
    {
     "data": {
      "text/plain": [
       "[<matplotlib.lines.Line2D at 0x13c77f76748>]"
      ]
     },
     "execution_count": 27,
     "metadata": {},
     "output_type": "execute_result"
    },
    {
     "data": {
      "image/png": "[encoded data removed]",
      "text/plain": [
       "<Figure size 432x288 with 1 Axes>"
      ]
     },
     "metadata": {
      "needs_background": "light"
     },
     "output_type": "display_data"
    }
   ],
   "source": [
    "plt.plot(strikes, iVols)"
   ]
  },
  {
   "cell_type": "code",
   "execution_count": 20,
   "metadata": {},
   "outputs": [
    {
     "name": "stdout",
     "output_type": "stream",
     "text": [
      "[48.91 38.98 29.19 19.95 12.1   6.47  3.13  1.44  0.65  0.3   0.15]\n",
      "Elapsted time is 5.66 seconds.\n"
     ]
    },
    {
     "data": {
      "text/plain": [
       "16.078902446766094"
      ]
     },
     "execution_count": 20,
     "metadata": {},
     "output_type": "execute_result"
    }
   ],
   "source": [
    "np.random.seed(12345)\n",
    "st = time()\n",
    "psi = .3\n",
    "kappa = 1.0\n",
    "rho = 0\n",
    "theta = v0**2\n",
    "k = 100\n",
    "T = 1\n",
    "dt = 1/360\n",
    "sims = 100000\n",
    "model = GBMSA(s0, v0, r, q, psi, kappa, rho, theta)\n",
    "S = model.simulate(sims, 1, 1/360)\n",
    "h_options = []\n",
    "for s in range(len(strikes)):\n",
    "    h_options.append(VanillaCall(r, S, strikes[s]*100,1))\n",
    "h_prices = np.array([o.price for o in h_options])\n",
    "print(h_prices)\n",
    "print(f'Elapsted time is {time() - st:.2f} seconds.')\n",
    "sum((h_prices - real_prices)**2)"
   ]
  },
  {
   "cell_type": "code",
   "execution_count": 71,
   "metadata": {},
   "outputs": [
    {
     "name": "stdout",
     "output_type": "stream",
     "text": [
      "$6.53\n"
     ]
    }
   ],
   "source": [
    "#  def heston_price(S0, K, v0, kappa, theta, sigma, rho, lambd, tau, r):\n",
    "print(f'${analyticalheston_price( 127.62, 130, .2*.2, 0.1, .2*.2, 0.1, -0.75, 0, 252/365, 0.001-0.0163 ):.2f}')"
   ]
  },
  {
   "cell_type": "code",
   "execution_count": 69,
   "metadata": {},
   "outputs": [
    {
     "name": "stdout",
     "output_type": "stream",
     "text": [
      "$6.53\n"
     ]
    }
   ],
   "source": [
    "np.random.seed(12345)\n",
    "v0 = 0.2\n",
    "sims = 100000\n",
    "T = 252/365\n",
    "dt = 1/(360*4)\n",
    "model = GBMSA(127.62, v0, 0.001, 0.0163, 0.1, 0.1, -0.75, v0*v0)\n",
    "S = model.simulate(sims, T, dt)\n",
    "print(f'${VanillaCall(0.001, S, 130, 252/365).price:.2f}')"
   ]
  },
  {
   "cell_type": "code",
   "execution_count": 66,
   "metadata": {},
   "outputs": [
    {
     "data": {
      "text/plain": [
       "248"
      ]
     },
     "execution_count": 66,
     "metadata": {},
     "output_type": "execute_result"
    }
   ],
   "source": [
    "T = 252/365\n",
    "dt = 1/360\n",
    "int(T/(1 * dt))"
   ]
  },
  {
   "cell_type": "code",
   "execution_count": 28,
   "metadata": {},
   "outputs": [],
   "source": [
    "from scipy.integrate import quad"
   ]
  },
  {
   "cell_type": "code",
   "execution_count": 70,
   "metadata": {},
   "outputs": [],
   "source": [
    "def heston_charfunc(phi, S0, v0, kappa, theta, sigma, rho, lambd, tau, r):\n",
    "    \n",
    "    # constants\n",
    "    a = kappa*theta\n",
    "    b = kappa+lambd\n",
    "    \n",
    "    # common terms w.r.t phi\n",
    "    rspi = rho*sigma*phi*1j\n",
    "    \n",
    "    # define d parameter given phi and b\n",
    "    d = np.sqrt( (rho*sigma*phi*1j - b)**2 + (phi*1j+phi**2)*sigma**2 )\n",
    "    \n",
    "    # define g parameter given phi, b and d\n",
    "    g = (b-rspi+d)/(b-rspi-d)\n",
    "    \n",
    "    # calculate characteristic function by components\n",
    "    exp1 = np.exp(r*phi*1j*tau)\n",
    "    term2 = S0**(phi*1j) * ( (1-g*np.exp(d*tau))/(1-g) )**(-2*a/sigma**2)\n",
    "    exp2 = np.exp(a*tau*(b-rspi+d)/sigma**2 + v0*(b-rspi+d)*( (1-np.exp(d*tau))/(1-g*np.exp(d*tau)) )/sigma**2)\n",
    "\n",
    "    return exp1*term2*exp2\n",
    "\n",
    "\n",
    "def integrand(phi, S0, K, v0, kappa, theta, sigma, rho, lambd, tau, r):\n",
    "    args = (S0, v0, kappa, theta, sigma, rho, lambd, tau, r)\n",
    "    numerator = np.exp(r*tau)*heston_charfunc(phi-1j,*args) - K*heston_charfunc(phi,*args)\n",
    "    denominator = 1j*phi*K**(1j*phi)\n",
    "    return numerator/denominator\n",
    "\n",
    "\n",
    "def heston_price_rec(S0, K, v0, kappa, theta, sigma, rho, lambd, tau, r):\n",
    "    args = (S0, v0, kappa, theta, sigma, rho, lambd, tau, r)\n",
    "    \n",
    "    P, umax, N = 0, 100, 10000\n",
    "    dphi=umax/N #dphi is width\n",
    "\n",
    "    for i in range(1,N):\n",
    "        # rectangular integration\n",
    "        phi = dphi * (2*i + 1)/2 # midpoint to calculate height\n",
    "        numerator = np.exp(r*tau)*heston_charfunc(phi-1j,*args) - K * heston_charfunc(phi,*args)\n",
    "        denominator = 1j*phi*K**(1j*phi)\n",
    "        \n",
    "        P += dphi * numerator/denominator\n",
    "        \n",
    "    return np.real((S0 - K*np.exp(-r*tau))/2 + P/np.pi)\n",
    "\n",
    "\n",
    "def analyticalheston_price(S0, K, v0, kappa, theta, sigma, rho, lambd, tau, r):\n",
    "    args = (S0, K, v0, kappa, theta, sigma, rho, lambd, tau, r)\n",
    "    \n",
    "    real_integral, err = np.real( quad(integrand, 0, 10000, args=args) )\n",
    "    \n",
    "    return (S0 - K*np.exp(-r*tau))/2 + real_integral/np.pi"
   ]
  },
  {
   "cell_type": "code",
   "execution_count": 25,
   "metadata": {},
   "outputs": [
    {
     "name": "stdout",
     "output_type": "stream",
     "text": [
      "Elapsted time is 18.01 seconds.\n"
     ]
    }
   ],
   "source": [
    "st = time()\n",
    "model.calibrate(real_prices, strikes, maturities)\n",
    "print(f'Elapsted time is {time() - st:.2f} seconds.')"
   ]
  },
  {
   "cell_type": "code",
   "execution_count": 40,
   "metadata": {},
   "outputs": [
    {
     "data": {
      "text/plain": [
       "complex"
      ]
     },
     "execution_count": 40,
     "metadata": {},
     "output_type": "execute_result"
    }
   ],
   "source": [
    "type(1j)"
   ]
  },
  {
   "cell_type": "code",
   "execution_count": 26,
   "metadata": {},
   "outputs": [
    {
     "name": "stdout",
     "output_type": "stream",
     "text": [
      "Heston Psi :  55.62%.\n",
      "Heston Kappa :  0.50.\n",
      "Heston Rho :  -99.00%.\n",
      "Heston Theta(vol) :  22.36%.\n"
     ]
    }
   ],
   "source": [
    "print(f'Heston Psi :  {model.parameters[0]:.2%}.')\n",
    "print(f'Heston Kappa :  {model.parameters[1]:.2f}.')\n",
    "print(f'Heston Rho :  {model.parameters[2]:.2%}.')\n",
    "print(f'Heston Theta(vol) :  {np.sqrt(model.parameters[3]):.2%}.')"
   ]
  },
  {
   "cell_type": "code",
   "execution_count": 19,
   "metadata": {},
   "outputs": [
    {
     "name": "stdout",
     "output_type": "stream",
     "text": [
      "[4.91953460e+01 3.95806389e+01 3.02953371e+01 2.15516629e+01\n",
      " 1.36804927e+01 7.21974764e+00 2.87220931e+00 7.92716242e-01\n",
      " 1.46535644e-01 1.96166797e-02 2.14455387e-03]\n",
      "Elapsted time is 5.54 seconds.\n"
     ]
    },
    {
     "data": {
      "text/plain": [
       "1.6090873236258225"
      ]
     },
     "execution_count": 19,
     "metadata": {},
     "output_type": "execute_result"
    }
   ],
   "source": [
    "np.random.seed(12345)\n",
    "st = time()\n",
    "S = model.simulate(sims, 1, 1/360)\n",
    "h_options = []\n",
    "for s in range(len(strikes)):\n",
    "    h_options.append(VanillaCall(r, S, strikes[s]*100,1))\n",
    "h_prices = np.array([o.price for o in h_options])\n",
    "print(h_prices)\n",
    "print(f'Elapsted time is {time() - st:.2f} seconds.')\n",
    "sum((h_prices - real_prices)**2)"
   ]
  },
  {
   "cell_type": "code",
   "execution_count": 20,
   "metadata": {},
   "outputs": [
    {
     "name": "stdout",
     "output_type": "stream",
     "text": [
      "[4.88922146e+01 3.89311386e+01 2.89706475e+01 1.90559524e+01\n",
      " 9.91307293e+00 3.71651273e+00 1.06345187e+00 2.59997119e-01\n",
      " 6.09767592e-02 1.40895087e-02 3.56325164e-03]\n",
      "Elapsted time is 4.27 seconds.\n"
     ]
    },
    {
     "data": {
      "text/plain": [
       "48.822780260479504"
      ]
     },
     "execution_count": 20,
     "metadata": {},
     "output_type": "execute_result"
    }
   ],
   "source": [
    "np.random.seed(12345)\n",
    "st = time()\n",
    "k = 100\n",
    "T = 1\n",
    "dt = 1/360\n",
    "sims = 100000\n",
    "model2 = VG(s0, r, q, 0.1, 0.1, 0.1)\n",
    "S2 = model2.simulate(sims, 1, 1/360)\n",
    "vg_options = []\n",
    "for s in range(len(strikes)):\n",
    "    vg_options.append(VanillaCall(r, S2, strikes[s]*100,1))\n",
    "vg_prices = np.array([o.price for o in vg_options])\n",
    "print(vg_prices)\n",
    "print(f'Elapsted time is {time() - st:.2f} seconds.')\n",
    "sum((vg_prices - real_prices)**2)"
   ]
  },
  {
   "cell_type": "code",
   "execution_count": 21,
   "metadata": {},
   "outputs": [
    {
     "name": "stdout",
     "output_type": "stream",
     "text": [
      "Elapsted time is 100.57 seconds.\n"
     ]
    }
   ],
   "source": [
    "st = time()\n",
    "model2.calibrate(real_prices, strikes, maturities)\n",
    "print(f'Elapsted time is {time() - st:.2f} seconds.')"
   ]
  },
  {
   "cell_type": "code",
   "execution_count": 22,
   "metadata": {},
   "outputs": [
    {
     "name": "stdout",
     "output_type": "stream",
     "text": [
      "VG Sigma :  0.18.\n",
      "VG Nu :  0.00.\n",
      "VG Theta :  -2.31.\n"
     ]
    }
   ],
   "source": [
    "print(f'VG Sigma :  {model2.parameters[0]:.2f}.')\n",
    "print(f'VG Nu :  {model2.parameters[1]:.2f}.')\n",
    "print(f'VG Theta :  {model2.parameters[2]:.2f}.')"
   ]
  },
  {
   "cell_type": "code",
   "execution_count": 23,
   "metadata": {},
   "outputs": [
    {
     "name": "stdout",
     "output_type": "stream",
     "text": [
      "[48.91007389 38.97885651 29.25260162 20.27374349 12.79682808  7.33144579\n",
      "  3.83152194  1.84538636  0.82338175  0.34450599  0.1366161 ]\n",
      "Elapsted time is 4.38 seconds.\n"
     ]
    },
    {
     "data": {
      "text/plain": [
       "13.776110311345404"
      ]
     },
     "execution_count": 23,
     "metadata": {},
     "output_type": "execute_result"
    }
   ],
   "source": [
    "st = time()\n",
    "np.random.seed(12345)\n",
    "S2 = model2.simulate(sims, 1, 1/360)\n",
    "vg_options = []\n",
    "for s in range(len(strikes)):\n",
    "    vg_options.append(VanillaCall(r, S2, strikes[s]*100,1))\n",
    "vg_prices = np.array([o.price for o in vg_options])\n",
    "print(vg_prices)\n",
    "print(f'Elapsted time is {time() - st:.2f} seconds.')\n",
    "sum((vg_prices - real_prices)**2)"
   ]
  },
  {
   "cell_type": "code",
   "execution_count": 24,
   "metadata": {},
   "outputs": [
    {
     "name": "stdout",
     "output_type": "stream",
     "text": [
      "For 90% strike, the actual price is $14.22\n",
      "The VGSA price is $13.68, and the VG price is $12.80\n",
      "------------------------\n",
      "For ATM strike, the actual price is $7.30\n",
      "The VGSA price is $7.22, and the VG price is $7.33\n",
      "------------------------\n",
      "For 110% strike, the actual price is $2.47\n",
      "The VGSA price is $2.87, and the VG price is $3.83\n"
     ]
    }
   ],
   "source": [
    "print(f'For 90% strike, the actual price is ${real_prices[4]:.2f}')\n",
    "print(f'The VGSA price is ${h_prices[4]:.2f}, and the VG price is ${vg_prices[4]:.2f}')\n",
    "print('------------------------')\n",
    "print(f'For ATM strike, the actual price is ${real_prices[5]:.2f}')\n",
    "print(f'The VGSA price is ${h_prices[5]:.2f}, and the VG price is ${vg_prices[5]:.2f}')\n",
    "print('------------------------')\n",
    "print(f'For 110% strike, the actual price is ${real_prices[6]:.2f}')\n",
    "print(f'The VGSA price is ${h_prices[6]:.2f}, and the VG price is ${vg_prices[6]:.2f}')"
   ]
  },
  {
   "cell_type": "code",
   "execution_count": 25,
   "metadata": {},
   "outputs": [
    {
     "data": {
      "image/png": "[encoded data removed]",
      "text/plain": [
       "<Figure size 432x288 with 1 Axes>"
      ]
     },
     "metadata": {
      "needs_background": "light"
     },
     "output_type": "display_data"
    }
   ],
   "source": [
    "plt.plot(strikes,real_prices, color='black', marker='o')\n",
    "plt.plot(strikes,h_prices, color='blue')\n",
    "plt.plot(strikes,vg_prices, color='red')\n",
    "plt.title('Ploting Option Prices Under Models')\n",
    "plt.xlabel('Moneyness')\n",
    "plt.ylabel('OptionPrice')\n",
    "plt.show()"
   ]
  },
  {
   "cell_type": "code",
   "execution_count": 26,
   "metadata": {},
   "outputs": [],
   "source": [
    "def RebateBufferPricer(buffer, discount, rebate, equity):\n",
    "    k = (1-buffer)*equity[:,0]\n",
    "    rebate = rebate * equity[:,0]\n",
    "    Price = np.mean(((equity[:,-1] >= k)*rebate - np.maximum(k - equity[:,-1], 0))*np.exp(-discount))\n",
    "\n",
    "    return Price"
   ]
  },
  {
   "cell_type": "code",
   "execution_count": 27,
   "metadata": {},
   "outputs": [
    {
     "name": "stdout",
     "output_type": "stream",
     "text": [
      "1.98%\n"
     ]
    }
   ],
   "source": [
    "buffer = 0.10\n",
    "discount = r * T\n",
    "rebate = 0.09\n",
    "equity = S\n",
    "print(f'{RebateBufferPricer(buffer, discount, rebate, equity)/s0:.2%}')"
   ]
  },
  {
   "cell_type": "code",
   "execution_count": 28,
   "metadata": {},
   "outputs": [],
   "source": [
    "y = []\n",
    "for i in np.arange(1,30):\n",
    "    rebate = i * .0050\n",
    "    y.append(RebateBufferPricer(buffer, discount, rebate, equity)/s0)"
   ]
  },
  {
   "cell_type": "code",
   "execution_count": 29,
   "metadata": {},
   "outputs": [
    {
     "data": {
      "image/png": "[encoded data removed]",
      "text/plain": [
       "<Figure size 432x288 with 1 Axes>"
      ]
     },
     "metadata": {
      "needs_background": "light"
     },
     "output_type": "display_data"
    }
   ],
   "source": [
    "plt.plot(np.arange(1,30)*0.0050,y)\n",
    "plt.xlabel(\"Coupon\")\n",
    "plt.ylabel(\"Hedge Budget\")\n",
    "plt.title(\"Coupon Option 1yr\")\n",
    "plt.grid(True)"
   ]
  },
  {
   "cell_type": "code",
   "execution_count": null,
   "metadata": {},
   "outputs": [],
   "source": []
  }
 ],
 "metadata": {
  "interpreter": {
   "hash": "48c6fb745f70ce4ea6b147b80fb45b67eb2c7b6e4643d51cba6f96d267288eb0"
  },
  "kernelspec": {
   "display_name": "Python 3",
   "language": "python",
   "name": "python3"
  },
  "language_info": {
   "codemirror_mode": {
    "name": "ipython",
    "version": 3
   },
   "file_extension": ".py",
   "mimetype": "text/x-python",
   "name": "python",
   "nbconvert_exporter": "python",
   "pygments_lexer": "ipython3",
   "version": "3.7.4"
  }
 },
 "nbformat": 4,
 "nbformat_minor": 2
}

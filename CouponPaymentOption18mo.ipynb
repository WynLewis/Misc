{
 "cells": [
  {
   "cell_type": "code",
   "execution_count": 60,
   "metadata": {},
   "outputs": [],
   "source": [
    "import numpy as np\n",
    "from scipy.stats import norm\n",
    "import matplotlib.pyplot as plt\n",
    "from time import time\n",
    "import mpmath as mp\n",
    "from numba import njit"
   ]
  },
  {
   "cell_type": "code",
   "execution_count": 61,
   "metadata": {},
   "outputs": [],
   "source": [
    "class VanillaOption():\n",
    "\n",
    "    def __init__(self, r, S, k, t):\n",
    "        self.r = r\n",
    "        self.S = S\n",
    "        self.k = k\n",
    "        self.t = t\n",
    "        \n",
    "        \n",
    "class VanillaCall(VanillaOption):\n",
    "    @property\n",
    "    def price(self):\n",
    "        return np.mean(np.maximum(self.S[:,-1] - self.k, 0)*np.exp(-self.r*self.t))\n",
    "    \n",
    "    \n",
    "class VanillaPut(VanillaOption):\n",
    "    @property\n",
    "    def price(self):\n",
    "        return np.mean(np.maximum(strike - equity[:,-1], 0)*np.exp(-discount))"
   ]
  },
  {
   "cell_type": "code",
   "execution_count": 62,
   "metadata": {},
   "outputs": [],
   "source": [
    "class BSEuroOption():\n",
    "\n",
    "    def __init__(self, r, q, S, sigma, k, t):\n",
    "        self.r = r\n",
    "        self.q = q\n",
    "        self.S = S\n",
    "        self.sigma = sigma\n",
    "        self.k = k\n",
    "        self.t = t\n",
    "        self.d1 = ((np.log(self.S / self.k) + (self.r- self.q + np.square(self.sigma) / 2) * self.t)) / (sigma * np.sqrt(self.t))\n",
    "        self.d2 = self.d1 - self.sigma * np.sqrt(self.t)\n",
    "\n",
    "\n",
    "class BSCall(BSEuroOption):\n",
    "\n",
    "    @property\n",
    "    def price(self):\n",
    "        # S * N(d1) - K * N(d2)\n",
    "        return self.S * np.exp(-self.q * self.t) * norm.cdf(self.d1) - self.k * np.exp(-self.r * self.t) * norm.cdf(self.d2)\n",
    "\n",
    "    @property \n",
    "    def delta(self):\n",
    "        return np.exp(- self.q * self.t) * norm.cdf(self.d1) \n",
    "\n",
    "    @property \n",
    "    def gamma(self):\n",
    "        return np.exp(- self.q * self.t) * norm.pdf(self.d1) / (self.sigma * self.S * np.sqrt(self.t)) \n",
    "\n",
    "    @property \n",
    "    def vega(self):\n",
    "        return np.exp(- self.q * self.t) * norm.pdf(self.d1) * self.S * np.sqrt(self.t)\n",
    "    \n",
    "    \n",
    "class BSPut(BSEuroOption):\n",
    "\n",
    "\n",
    "    @property\n",
    "    def price(self):\n",
    "        return self.k * np.exp(-self.r * self.t) * norm.cdf(-self.d2) - self.S * np.exp(-self.q * self.t) * norm.cdf(-self.d1) \n",
    "\n",
    "    @property \n",
    "    def delta(self):\n",
    "        return -1 * np.exp(- self.q * self.t) * norm.cdf(-self.d1)\n",
    "\n",
    "    @property \n",
    "    def gamma(self):\n",
    "        return np.exp(- self.q * self.t) * norm.pdf(self.d1) / (self.sigma * self.S * np.sqrt(self.t)) \n",
    "\n",
    "    @property \n",
    "    def vega(self):\n",
    "        return np.exp(- self.q * self.t) * self.S * np.sqrt(self.t) *  norm.pdf(self.d1) / 100\n",
    "        #return np.exp(- self.q * self.t) * np.sqrt(self.t) *  norm.pdf(self.d1) / 100"
   ]
  },
  {
   "cell_type": "code",
   "execution_count": 63,
   "metadata": {},
   "outputs": [],
   "source": [
    "def simulate_GBM(sims, T, dt, S0, r, q, sigma):\n",
    "    m = int(1/(T * dt))\n",
    "    equity = np.zeros((sims, m+1))\n",
    "    X = np.random.randn(sims, m)\n",
    "    equity[:, 1:] = (r-q-sigma*sigma / 2) * dt + sigma * np.sqrt(dt) * X\n",
    "    return S0 * np.exp(equity.cumsum(axis=1))\n",
    "    "
   ]
  },
  {
   "cell_type": "code",
   "execution_count": 64,
   "metadata": {},
   "outputs": [],
   "source": [
    "def simulate_VG(sims, T, dt, S0, r, q, sigma, nu, theta):\n",
    "    m = int(1/(T * dt))\n",
    "    omega = np.log(1 - theta*nu - sigma*sigma*nu/2)/nu\n",
    "    equity = np.zeros((sims, m+1))\n",
    "    drift = r - q + omega\n",
    "    g = np.random.gamma(dt/nu, nu,(sims,m))\n",
    "    X = theta*g + sigma*np.sqrt(g)*np.random.randn(sims, m)\n",
    "    equity[:, 1:] = drift * dt + X\n",
    "    return S0 * np.exp(equity.cumsum(axis=1))    "
   ]
  },
  {
   "cell_type": "code",
   "execution_count": 65,
   "metadata": {},
   "outputs": [],
   "source": [
    "def simulate_VGSA(sims, T, dt, S0, r, q, sigma, nu, theta, kappa, eta, lam):\n",
    "    m = int(1/(T * dt))\n",
    "    omega = np.zeros((sims, m+1))\n",
    "    iu = (1/nu) * np.log(1 - theta*nu - sigma*sigma*nu/2)\n",
    "    gamma = np.sqrt(kappa*kappa - 2*lam*lam*iu)\n",
    "    equity = np.zeros((sims, m+1))\n",
    "    drift = r - q\n",
    "    g = np.random.gamma(dt/nu, nu,(sims,m))\n",
    "    X = VGSA_TimeChange(sims, T, dt, S0, r, q, sigma, nu, theta, kappa, eta, lam)\n",
    "    jh = np.array([(ii)*dt for ii in range(m+1)], dtype=float)\n",
    "    omega = np.log(phi(jh, kappa, eta, lam, gamma, iu, nu))\n",
    "    domega = - np.diff(omega, prepend=0.0)                 \n",
    "    equity[:, 1:] = drift * dt + domega[:-1].T + X[:,:-1]\n",
    "    return S0 * np.exp(equity.cumsum(axis=1))  \n",
    "\n",
    "def A(t, kappa, eta, lam, gamma, iu):\n",
    "    num = np.exp(kappa*kappa*eta*t/(lam*lam))\n",
    "    par = np.cosh(gamma*t/2) + (kappa/gamma)*np.sinh(gamma*t/2)\n",
    "    ex = 2*kappa*eta/(lam*lam)\n",
    "    return num/(par**ex)\n",
    "\n",
    "def B(t, kappa, eta, lam, gamma, iu):\n",
    "    return (2*iu) / (kappa +gamma*np.cosh(gamma*t/2)/np.sinh(gamma*t/2))\n",
    "\n",
    "def phi(t, kappa, eta, lam, gamma, iu, nu):\n",
    "    \n",
    "    return A(t, kappa, eta, lam, gamma, iu)*np.exp(B(t, kappa, eta, lam, gamma, iu)/nu)\n",
    "\n",
    "def VGSA_TimeChange(sims, T, dt, S0, r, q, sigma, nu, theta, kappa, eta, lam):\n",
    "    m = int(1/(T * dt))\n",
    "    y = np.zeros((sims, m+1))\n",
    "    X = np.zeros((sims, m+1))\n",
    "    y[:,0] = 1/nu\n",
    "    Z1 = np.random.randn(sims, m)\n",
    "    Z2 = np.random.randn(sims, m)\n",
    "    for n in range(m):\n",
    "\n",
    "        y[:,n+1] = (y[:,n] + kappa*(eta - y[:,n])*dt + lam*np.sqrt(y[:,n])*np.sqrt(dt)*Z1[:,n]\n",
    "                   + (lam*lam)/4 * dt * (Z1[:,n]**2 - 1))\n",
    "        t_tilda = dt/2 * (y[:,n+1] +y[:,n])\n",
    "        g = np.random.gamma(t_tilda/nu, nu,sims)\n",
    "        X[:,n] = theta*g + sigma*np.sqrt(g)*Z2[:,n]     \n",
    "    return X"
   ]
  },
  {
   "cell_type": "code",
   "execution_count": 66,
   "metadata": {},
   "outputs": [],
   "source": [
    "import pyodbc"
   ]
  },
  {
   "cell_type": "code",
   "execution_count": 67,
   "metadata": {},
   "outputs": [],
   "source": [
    "EffectiveDate = \"'2021-12-31'\"\n",
    "connstr = 'DRIVER={ODBC Driver 17 for SQL Server};SERVER=actuarialdata.nwie.net,1021;DATABASE=NFActCorp;Trusted_Connection=yes;'\n",
    "query = \"EXEC [EconData].[Curve_NominalRates_Get] \" + EffectiveDate\n",
    "query2 = \"Exec NFActCorp.QRM.SHARED_VOL_SURFACE_PIVOT_GET 'Master',\" + EffectiveDate + \", 'SPX'\"\n",
    "query3 = \"Exec NFActCorp.QRM.BBG_Closes_Scalar_Get 'SPX INDEX', 'EQY_DVD_YLD_12M', \" + EffectiveDate\n",
    "query4 = \"select [Input_EquityVolatility] \"\n",
    "query4 += \"FROM EconData.vw_VCFStateParameters \"\n",
    "query4 +=\"WHERE [FundName] = 'NVIT ID Managed Growth' \"\n",
    "query4 += \"and\t[AlgorithmVersion] = 1.0 \"\n",
    "query4 += \"and EffectiveDate = \"\n",
    "query4 += EffectiveDate\n",
    "query4 += \" order by EffectiveDate\"\n",
    "rates = []\n",
    "ivol = []\n",
    "div = []\n",
    "vol = []\n",
    "with pyodbc.connect(connstr) as cnxn:\n",
    "\n",
    "    with cnxn.cursor() as crs:\n",
    "        crs.execute(query)\n",
    "        for row in crs:\n",
    "            rates.append(row)\n",
    "    with cnxn.cursor() as crs:\n",
    "        crs.execute(query2)\n",
    "        for row in crs:\n",
    "            ivol.append(row)\n",
    "    with cnxn.cursor() as crs:\n",
    "        crs.execute(query3)\n",
    "        for row in crs:\n",
    "            div.append(row)\n",
    "    with cnxn.cursor() as crs:\n",
    "        crs.execute(query4)\n",
    "        for row in crs:\n",
    "            vol.append(row)        \n",
    "iVols_1yr = np.array(ivol[:][:][11][3:])\n",
    "rate_1yr = rates[0][4] / 100\n",
    "iVols_2yr = np.array(ivol[:][:][12][3:])\n",
    "rate_2yr = rates[0][5] / 100\n",
    "q = div[0][0] / 100\n",
    "v0 = vol[0][0]"
   ]
  },
  {
   "cell_type": "code",
   "execution_count": 68,
   "metadata": {},
   "outputs": [],
   "source": [
    "@njit\n",
    "def HESTON_VOL(rvs, nsim=100000, timesteps=360, maturity=1, psi=.3877, theta = 0.18*0.18, kappa = 2, V0 = .18):\n",
    "    dt = maturity / timesteps\n",
    "    V = np.zeros((nsim, timesteps+1))\n",
    "    V[:,0] = V0*V0\n",
    "    for n in range(timesteps):\n",
    "        rv = rvs[:,n]\n",
    "        V[:,n+1] = (np.maximum(V[:,n] + kappa * (theta - V[:,n]) * dt + \n",
    "                               psi * np.sqrt(np.maximum(V[:,n],0.0001)) * rv * np.sqrt(dt), 0.0001))\n",
    "    Vol = np.sqrt(V)\n",
    "    return Vol\n",
    "\n",
    "\n",
    "def simulate_GBMSA(sims, T, dt, S0, V0, r, q, psi, kappa, rho, theta):\n",
    "    m = int(1/(T * dt))\n",
    "    equity = np.zeros((sims, m+1))\n",
    "    X1 = np.random.randn(sims, m)\n",
    "    X2 = np.random.randn(sims, m)\n",
    "    X3 = rho * X1 + np.sqrt(1-rho*rho)*X2\n",
    "    vol = HESTON_VOL_njit(X1, sims, m, T, psi, theta, kappa, V0)\n",
    "    equity[:, 1:] = (r-q-vol[:,0:-1]*vol[:,0:-1] / 2) * dt + vol[:,0:-1] * np.sqrt(dt) * X3\n",
    "    return S0 * np.exp(equity.cumsum(axis=1))"
   ]
  },
  {
   "cell_type": "code",
   "execution_count": 69,
   "metadata": {},
   "outputs": [],
   "source": [
    "def EuroPricer(strike, discount, optiontype, equity):\n",
    "    if optiontype == 'C':\n",
    "        Price = np.mean(np.maximum(equity[:,-1] - strike, 0)*np.exp(-discount))\n",
    "    else:\n",
    "        Price = np.mean(np.maximum(strike - equity[:,-1], 0)*np.exp(-discount))\n",
    "    return Price"
   ]
  },
  {
   "cell_type": "code",
   "execution_count": 70,
   "metadata": {},
   "outputs": [],
   "source": [
    "from abc import ABC, abstractmethod\n",
    "from typing import Tuple, List, Sequence, Dict, Union\n",
    "from scipy.optimize import minimize, OptimizeResult \n",
    "from scipy.optimize import Bounds\n",
    "from random import seed\n",
    "from scipy.optimize import least_squares\n",
    "\n",
    "class OptionPricingModel(ABC):\n",
    "    \"\"\"\n",
    "    Model that can be used to price Euoprean Vanilla Options.\n",
    "    \"\"\"\n",
    "    \n",
    "    def __init__(self):\n",
    "        self._parameters = None\n",
    "    \n",
    "    @property\n",
    "    def parameters(self) -> Sequence[float]:\n",
    "        \"\"\"\n",
    "        The model parameters, returned as a list of real numbers.\n",
    "        \"\"\"\n",
    "        return self._parameters\n",
    "\n",
    "    \n",
    "    @parameters.setter\n",
    "    @abstractmethod\n",
    "    def parameters(self, value: Sequence[float]):\n",
    "        \"\"\"\n",
    "        The model parameters, returned as a list of real numbers.\n",
    "        \"\"\"\n",
    "        pass\n",
    "        \n",
    "    \n",
    "    @abstractmethod\n",
    "    def simulate(self):\n",
    "        pass   \n",
    "        \n",
    "        \n",
    "    def calibrate(self, real_prices, strikes, maturities, weight: np.array=None):\n",
    "        if weight is None:\n",
    "            weight = np.ones(real_prices.shape)\n",
    "        dt = 1/360\n",
    "        sims = 10000\n",
    "        simlen = max(maturities)\n",
    "        cols = (maturities / dt + 1).astype(int)\n",
    "        loss = self.get_loss_function(real_prices, weight, strikes, maturities, sims, simlen, cols, dt)\n",
    "        res = minimize(loss, self.parameters, options=self.options, bounds=self.bounds)\n",
    "        self.parameters = res.x\n",
    "        return res, self\n",
    "        \n",
    "    def get_loss_function(self, real_prices, weight, strikes, maturities, sims, simlen, cols, dt):    \n",
    "\n",
    "        def _loss_function(parameters):\n",
    "            np.random.seed(1234)\n",
    "            self.parameters = parameters\n",
    "            S = self.simulate(sims, simlen, dt)\n",
    "            predicted = []\n",
    "            for i in range(len(strikes)):\n",
    "                pricingOption = VanillaCall(self.r, S[:,:cols[i]], self.s0*strikes[i], maturities[i])\n",
    "                predicted.append(pricingOption.price)\n",
    "            return sum(weight*(real_prices - np.array(predicted, dtype=float))**2)\n",
    "        return _loss_function    "
   ]
  },
  {
   "cell_type": "code",
   "execution_count": 71,
   "metadata": {},
   "outputs": [],
   "source": [
    "class GBMSA(OptionPricingModel):\n",
    "    \n",
    "    def __init__(self, s0, v0, r, q, psi, kappa, rho, theta):\n",
    "        super().__init__()\n",
    "        self.r = r\n",
    "        self.q = q\n",
    "        self.s0 = s0\n",
    "        self.v0 = v0\n",
    "        self.psi = psi\n",
    "        self.kappa = kappa\n",
    "        self.rho = rho\n",
    "        self.theta = theta\n",
    "        self.bounds = ((0.10, 1.0), (0.5, 10.0), (-0.99, 0.99), (0.05, 1.0))\n",
    "        self.options = {'gtol': 1e-6, 'disp': True}\n",
    "        self.parameters = (self.psi, self.kappa, self.rho, self.theta)\n",
    "    \n",
    "    @property\n",
    "    def parameters(self) -> Sequence[float]:\n",
    "        \"\"\"\n",
    "        The model parameters, returned as a list of real numbers.\n",
    "        \"\"\"\n",
    "        return self._parameters\n",
    "    \n",
    "    @parameters.setter\n",
    "    def parameters(self, value):\n",
    "        if value is not None:\n",
    "            self.psi = value[0]\n",
    "            self.kappa = value[1]\n",
    "            self.rho = value[2]\n",
    "            self.theta = value[3]\n",
    "            self._parameters = value\n",
    "\n",
    "            \n",
    "    def HESTON_VOL(self,rvs, nsim=100000, timesteps=360, maturity=1, psi=.3877, theta = 0.18*0.18, kappa = 2, v0 = .18):\n",
    "        dt = maturity / timesteps\n",
    "        v = np.zeros((nsim, timesteps+1))\n",
    "        v[:,0] = v0*v0\n",
    "        for n in range(timesteps):\n",
    "            rv = rvs[:,n]\n",
    "            v[:,n+1] = np.maximum(v[:,n] + kappa * (theta - v[:,n]) * dt + \n",
    "                                   psi * np.sqrt(v[:,n]) * rv * np.sqrt(dt),0.01)\n",
    "                \n",
    "        vol = np.sqrt(v)\n",
    "        return vol\n",
    "\n",
    "    def simulate(self, sims, T, dt):\n",
    "        m = int(T/(1 * dt))\n",
    "        equity = np.zeros((sims, m+1))\n",
    "        X1 = np.random.randn(sims, m)\n",
    "        X2 = np.random.randn(sims, m)\n",
    "        X3 = self.rho * X1 + np.sqrt(1-self.rho*self.rho)*X2\n",
    "        vol = self.HESTON_VOL(X1, sims, m, T, self.psi, self.theta, self.kappa, self.v0)\n",
    "        equity[:, 1:] = (self.r-self.q-vol[:,0:-1]*vol[:,0:-1] / 2) * dt + vol[:,0:-1] * np.sqrt(dt) * X3\n",
    "        return self.s0 * np.exp(equity.cumsum(axis=1))"
   ]
  },
  {
   "cell_type": "code",
   "execution_count": 72,
   "metadata": {},
   "outputs": [],
   "source": [
    "class VG(OptionPricingModel):\n",
    "    \n",
    "    def __init__(self, s0, r, q, sigma, nu, theta):\n",
    "        super().__init__()\n",
    "        self.r = r\n",
    "        self.q = q\n",
    "        self.s0 = s0\n",
    "        self.sigma = sigma        \n",
    "        self.nu = nu\n",
    "        self.theta = theta\n",
    "        self.bounds = ((0.001, 10.0), (0.001, 10.0), (-10.0, 10.0))\n",
    "        self.options = {'disp': True}\n",
    "        self.parameters = (self.sigma, self.nu, self.theta)\n",
    "    \n",
    "    @property\n",
    "    def parameters(self) -> Sequence[float]:\n",
    "        \"\"\"\n",
    "        The model parameters, returned as a list of real numbers.\n",
    "        \"\"\"\n",
    "        return self._parameters\n",
    "    \n",
    "    @parameters.setter\n",
    "    def parameters(self, value):\n",
    "        if value is not None:\n",
    "            self.sigma = value[0]\n",
    "            self.nu = value[1]\n",
    "            self.theta = value[2]\n",
    "            self._parameters = value\n",
    "\n",
    "\n",
    "    def simulate(self, sims, T, dt):\n",
    "        m = int(T/(1 * dt))\n",
    "        omega = np.log(1 - self.theta*self.nu - self.sigma*self.sigma*self.nu/2)/self.nu\n",
    "        equity = np.zeros((sims, m+1))\n",
    "        drift = self.r - self.q + omega\n",
    "        g = np.random.gamma(dt/self.nu, self.nu,(sims,m))\n",
    "        X = self.theta*g + self.sigma*np.sqrt(g)*np.random.randn(sims, m)\n",
    "        equity[:, 1:] = drift * dt + X\n",
    "        return self.s0 * np.exp(equity.cumsum(axis=1))   "
   ]
  },
  {
   "cell_type": "code",
   "execution_count": 73,
   "metadata": {},
   "outputs": [
    {
     "name": "stdout",
     "output_type": "stream",
     "text": [
      "[49.63697831 40.4990766  31.66600871 23.37918521 15.75399823  9.05974214\n",
      "  4.02741392  1.48917285  0.61032238  0.27918085  0.13080181]\n",
      "Elapsted time is 0.01 seconds.\n"
     ]
    }
   ],
   "source": [
    "st = time()\n",
    "r = (rate_1yr + rate_2yr) / 2\n",
    "q = q\n",
    "s0 = 100\n",
    "strikes = np.array([0.5, 0.6, 0.7, 0.8, 0.90, 1.00, 1.10, 1.2, 1.3, 1.4, 1.5])\n",
    "maturities = np.array([1.5, 1.5, 1.5, 1.5, 1.5, 1.5, 1.5, 1.5, 1.5, 1.5, 1.5])\n",
    "iVols = np.sqrt((iVols_1yr**2 + iVols_2yr**2) / 2)\n",
    "options = []\n",
    "for i in range(len(iVols)):\n",
    "    options.append(BSCall(r, q, s0, iVols[i], s0*strikes[i], maturities[i]))\n",
    "real_prices = np.array([o.price for o in options])\n",
    "print(real_prices)\n",
    "print(f'Elapsted time is {time() - st:.2f} seconds.')"
   ]
  },
  {
   "cell_type": "code",
   "execution_count": 74,
   "metadata": {},
   "outputs": [
    {
     "name": "stdout",
     "output_type": "stream",
     "text": [
      "[48.71737749 38.89175748 29.38867152 20.70385723 13.51253547  8.21004636\n",
      "  4.74198093  2.66266765  1.48486823  0.84117923  0.48746107]\n",
      "Elapsted time is 9.57 seconds.\n"
     ]
    },
    {
     "data": {
      "text/plain": [
       "24.614497577962815"
      ]
     },
     "execution_count": 74,
     "metadata": {},
     "output_type": "execute_result"
    }
   ],
   "source": [
    "np.random.seed(12345)\n",
    "st = time()\n",
    "psi = .3\n",
    "kappa = 1.0\n",
    "rho = 0\n",
    "theta = v0**2\n",
    "k = 100\n",
    "T = 1.5\n",
    "dt = 1/360\n",
    "sims = 100000\n",
    "model = GBMSA(s0, v0, r, q, psi, kappa, rho, theta)\n",
    "S = model.simulate(sims, T, 1/360)\n",
    "h_options = []\n",
    "for s in range(len(strikes)):\n",
    "    h_options.append(VanillaCall(r, S, strikes[s]*100,1))\n",
    "h_prices = np.array([o.price for o in h_options])\n",
    "print(h_prices)\n",
    "print(f'Elapsted time is {time() - st:.2f} seconds.')\n",
    "sum((h_prices - real_prices)**2)"
   ]
  },
  {
   "cell_type": "code",
   "execution_count": 75,
   "metadata": {},
   "outputs": [
    {
     "name": "stdout",
     "output_type": "stream",
     "text": [
      "Elapsted time is 83.35 seconds.\n"
     ]
    }
   ],
   "source": [
    "st = time()\n",
    "weight = np.array([0, 0, 0, 0, 1, 1, 1, 0, 0, 0, 0])\n",
    "model.calibrate(real_prices, strikes, maturities, weight)\n",
    "print(f'Elapsted time is {time() - st:.2f} seconds.')"
   ]
  },
  {
   "cell_type": "code",
   "execution_count": 76,
   "metadata": {},
   "outputs": [
    {
     "name": "stdout",
     "output_type": "stream",
     "text": [
      "Heston Psi :  46.65%.\n",
      "Heston Kappa :  0.50.\n",
      "Heston Rho :  -99.00%.\n",
      "Heston Theta(vol) :  22.36%.\n"
     ]
    }
   ],
   "source": [
    "print(f'Heston Psi :  {model.parameters[0]:.2%}.')\n",
    "print(f'Heston Kappa :  {model.parameters[1]:.2f}.')\n",
    "print(f'Heston Rho :  {model.parameters[2]:.2%}.')\n",
    "print(f'Heston Theta(vol) :  {np.sqrt(model.parameters[3]):.2%}.')"
   ]
  },
  {
   "cell_type": "code",
   "execution_count": 77,
   "metadata": {},
   "outputs": [
    {
     "name": "stdout",
     "output_type": "stream",
     "text": [
      "[4.92313589e+01 3.95916878e+01 3.02683825e+01 2.14820596e+01\n",
      " 1.35768570e+01 7.10458935e+00 2.78047206e+00 7.48905862e-01\n",
      " 1.34530493e-01 1.75114155e-02 1.90443838e-03]\n",
      "Elapsted time is 6.11 seconds.\n"
     ]
    },
    {
     "data": {
      "text/plain": [
       "17.517215454079032"
      ]
     },
     "execution_count": 77,
     "metadata": {},
     "output_type": "execute_result"
    }
   ],
   "source": [
    "np.random.seed(12345)\n",
    "st = time()\n",
    "S = model.simulate(sims, 1, 1/360)\n",
    "h_options = []\n",
    "for s in range(len(strikes)):\n",
    "    h_options.append(VanillaCall(r, S, strikes[s]*100,1))\n",
    "h_prices = np.array([o.price for o in h_options])\n",
    "print(h_prices)\n",
    "print(f'Elapsted time is {time() - st:.2f} seconds.')\n",
    "sum((h_prices - real_prices)**2)"
   ]
  },
  {
   "cell_type": "code",
   "execution_count": 78,
   "metadata": {},
   "outputs": [
    {
     "name": "stdout",
     "output_type": "stream",
     "text": [
      "[4.86439961e+01 3.86998956e+01 2.87619478e+01 1.89957315e+01\n",
      " 1.04002025e+01 4.57921665e+00 1.67529517e+00 5.44180663e-01\n",
      " 1.64761456e-01 4.71507681e-02 1.36682619e-02]\n",
      "Elapsted time is 6.70 seconds.\n"
     ]
    },
    {
     "data": {
      "text/plain": [
       "87.30109519127035"
      ]
     },
     "execution_count": 78,
     "metadata": {},
     "output_type": "execute_result"
    }
   ],
   "source": [
    "np.random.seed(12345)\n",
    "st = time()\n",
    "k = 100\n",
    "T = 1.5\n",
    "dt = 1/360\n",
    "sims = 100000\n",
    "model2 = VG(s0, r, q, 0.1, 0.1, 0.1)\n",
    "S2 = model2.simulate(sims, 1.5, 1/360)\n",
    "vg_options = []\n",
    "for s in range(len(strikes)):\n",
    "    vg_options.append(VanillaCall(r, S2, strikes[s]*100,1))\n",
    "vg_prices = np.array([o.price for o in vg_options])\n",
    "print(vg_prices)\n",
    "print(f'Elapsted time is {time() - st:.2f} seconds.')\n",
    "sum((vg_prices - real_prices)**2)"
   ]
  },
  {
   "cell_type": "code",
   "execution_count": 79,
   "metadata": {},
   "outputs": [
    {
     "name": "stdout",
     "output_type": "stream",
     "text": [
      "Elapsted time is 158.33 seconds.\n"
     ]
    }
   ],
   "source": [
    "st = time()\n",
    "model2.calibrate(real_prices, strikes, maturities)\n",
    "print(f'Elapsted time is {time() - st:.2f} seconds.')"
   ]
  },
  {
   "cell_type": "code",
   "execution_count": 80,
   "metadata": {},
   "outputs": [
    {
     "name": "stdout",
     "output_type": "stream",
     "text": [
      "VG Sigma :  0.20.\n",
      "VG Nu :  0.06.\n",
      "VG Theta :  0.21.\n"
     ]
    }
   ],
   "source": [
    "print(f'VG Sigma :  {model2.parameters[0]:.2f}.')\n",
    "print(f'VG Nu :  {model2.parameters[1]:.2f}.')\n",
    "print(f'VG Theta :  {model2.parameters[2]:.2f}.')"
   ]
  },
  {
   "cell_type": "code",
   "execution_count": 81,
   "metadata": {},
   "outputs": [
    {
     "name": "stdout",
     "output_type": "stream",
     "text": [
      "[49.04877884 39.1314813  29.42732869 20.49604654 13.15680649  7.83103885\n",
      "  4.3994338   2.37794678  1.25395684  0.6506989   0.33936772]\n",
      "Elapsted time is 4.18 seconds.\n"
     ]
    },
    {
     "data": {
      "text/plain": [
       "25.31969765494889"
      ]
     },
     "execution_count": 81,
     "metadata": {},
     "output_type": "execute_result"
    }
   ],
   "source": [
    "st = time()\n",
    "np.random.seed(12345)\n",
    "S2 = model2.simulate(sims, 1, 1/360)\n",
    "vg_options = []\n",
    "for s in range(len(strikes)):\n",
    "    vg_options.append(VanillaCall(r, S2, strikes[s]*100,1))\n",
    "vg_prices = np.array([o.price for o in vg_options])\n",
    "print(vg_prices)\n",
    "print(f'Elapsted time is {time() - st:.2f} seconds.')\n",
    "sum((vg_prices - real_prices)**2)"
   ]
  },
  {
   "cell_type": "code",
   "execution_count": 82,
   "metadata": {},
   "outputs": [
    {
     "name": "stdout",
     "output_type": "stream",
     "text": [
      "For 90% strike, the actual price is $15.75\n",
      "The VGSA price is $13.58, and the VG price is $13.16\n",
      "------------------------\n",
      "For ATM strike, the actual price is $9.06\n",
      "The VGSA price is $7.10, and the VG price is $7.83\n",
      "------------------------\n",
      "For 110% strike, the actual price is $4.03\n",
      "The VGSA price is $2.78, and the VG price is $4.40\n"
     ]
    }
   ],
   "source": [
    "print(f'For 90% strike, the actual price is ${real_prices[4]:.2f}')\n",
    "print(f'The VGSA price is ${h_prices[4]:.2f}, and the VG price is ${vg_prices[4]:.2f}')\n",
    "print('------------------------')\n",
    "print(f'For ATM strike, the actual price is ${real_prices[5]:.2f}')\n",
    "print(f'The VGSA price is ${h_prices[5]:.2f}, and the VG price is ${vg_prices[5]:.2f}')\n",
    "print('------------------------')\n",
    "print(f'For 110% strike, the actual price is ${real_prices[6]:.2f}')\n",
    "print(f'The VGSA price is ${h_prices[6]:.2f}, and the VG price is ${vg_prices[6]:.2f}')"
   ]
  },
  {
   "cell_type": "code",
   "execution_count": 83,
   "metadata": {},
   "outputs": [
    {
     "data": {
      "image/png": "[encoded data removed]",
      "text/plain": [
       "<Figure size 432x288 with 1 Axes>"
      ]
     },
     "metadata": {
      "needs_background": "light"
     },
     "output_type": "display_data"
    }
   ],
   "source": [
    "plt.plot(strikes,real_prices, color='black', marker='o')\n",
    "plt.plot(strikes,h_prices, color='blue')\n",
    "plt.plot(strikes,vg_prices, color='red')\n",
    "plt.title('Ploting Option Prices Under Models')\n",
    "plt.xlabel('Moneyness')\n",
    "plt.ylabel('OptionPrice')\n",
    "plt.show()"
   ]
  },
  {
   "cell_type": "code",
   "execution_count": 84,
   "metadata": {},
   "outputs": [],
   "source": [
    "def RebateBufferPricer(buffer, discount, rebate, equity):\n",
    "    k = (1-buffer)*equity[:,0]\n",
    "    rebate = rebate * equity[:,0]\n",
    "    Price = np.mean(((equity[:,-1] >= k)*rebate - np.maximum(k - equity[:,-1], 0))*np.exp(-discount))\n",
    "\n",
    "    return Price"
   ]
  },
  {
   "cell_type": "code",
   "execution_count": 85,
   "metadata": {},
   "outputs": [
    {
     "name": "stdout",
     "output_type": "stream",
     "text": [
      "2.98%\n"
     ]
    }
   ],
   "source": [
    "buffer = 0.10\n",
    "discount = r * T\n",
    "rebate = 0.10\n",
    "equity = S\n",
    "print(f'{RebateBufferPricer(buffer, discount, rebate, equity)/s0:.2%}')"
   ]
  },
  {
   "cell_type": "code",
   "execution_count": 86,
   "metadata": {},
   "outputs": [],
   "source": [
    "y = []\n",
    "for i in np.arange(1,30):\n",
    "    rebate = i * .0050\n",
    "    y.append(RebateBufferPricer(buffer, discount, rebate, equity)/s0)"
   ]
  },
  {
   "cell_type": "code",
   "execution_count": 87,
   "metadata": {},
   "outputs": [
    {
     "data": {
      "image/png": "[encoded data removed]",
      "text/plain": [
       "<Figure size 432x288 with 1 Axes>"
      ]
     },
     "metadata": {
      "needs_background": "light"
     },
     "output_type": "display_data"
    }
   ],
   "source": [
    "plt.plot(np.arange(1,30)*0.0050,y)\n",
    "plt.xlabel(\"Coupon\")\n",
    "plt.ylabel(\"Hedge Budget\")\n",
    "plt.title(\"Coupon Option 18mo\")\n",
    "plt.grid(True)"
   ]
  },
  {
   "cell_type": "code",
   "execution_count": null,
   "metadata": {},
   "outputs": [],
   "source": []
  }
 ],
 "metadata": {
  "interpreter": {
   "hash": "48c6fb745f70ce4ea6b147b80fb45b67eb2c7b6e4643d51cba6f96d267288eb0"
  },
  "kernelspec": {
   "display_name": "Python 3",
   "language": "python",
   "name": "python3"
  },
  "language_info": {
   "codemirror_mode": {
    "name": "ipython",
    "version": 3
   },
   "file_extension": ".py",
   "mimetype": "text/x-python",
   "name": "python",
   "nbconvert_exporter": "python",
   "pygments_lexer": "ipython3",
   "version": "3.7.4"
  }
 },
 "nbformat": 4,
 "nbformat_minor": 2
}
